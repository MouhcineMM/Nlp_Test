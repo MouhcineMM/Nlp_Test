{
 "cells": [
  {
   "cell_type": "markdown",
   "id": "0af4586b",
   "metadata": {},
   "source": [
    "# Modèle DL RNN et LSTM"
   ]
  },
  {
   "cell_type": "markdown",
   "id": "a9d39339",
   "metadata": {},
   "source": [
    "### Modele synthèse (Uniquement BART)"
   ]
  },
  {
   "cell_type": "code",
   "execution_count": 1,
   "id": "84074326",
   "metadata": {},
   "outputs": [
    {
     "name": "stderr",
     "output_type": "stream",
     "text": [
      "c:\\Users\\USER\\AppData\\Local\\Programs\\Python\\Python312\\Lib\\site-packages\\tqdm\\auto.py:21: TqdmWarning: IProgress not found. Please update jupyter and ipywidgets. See https://ipywidgets.readthedocs.io/en/stable/user_install.html\n",
      "  from .autonotebook import tqdm as notebook_tqdm\n",
      "Xet Storage is enabled for this repo, but the 'hf_xet' package is not installed. Falling back to regular HTTP download. For better performance, install the package with: `pip install huggingface_hub[hf_xet]` or `pip install hf_xet`\n"
     ]
    },
    {
     "name": "stdout",
     "output_type": "stream",
     "text": [
      "📄 Texte original :\n",
      "\n",
      "Artificial intelligence is transforming the way we work and live. From smart assistants to automated medical diagnostics, AI technologies are becoming increasingly integrated into our daily lives. However, this rapid progress also raises important questions about privacy, job displacement, and the ethical use of data.\n",
      "As AI continues to evolve, it is crucial for society to address these challenges and ensure that the benefits of AI are shared equitably. Policymakers, technologists, and the public must work together to create a framework that promotes innovation while safeguarding individual rights and societal values.\n",
      "The future of AI holds great promise, but it is essential to navigate the complexities it brings. By fostering collaboration and open dialogue, we can harness the power of AI to improve our world while minimizing its risks.\n",
      "\n",
      "\n",
      "📝 Résumé généré :\n",
      "Artificial intelligence is transforming the way we work and live. From smart assistants to automated medical diagnostics, AI technologies are becoming increasingly integrated into our daily lives. However, this rapid progress also raises important questions about privacy, job displacement,\n"
     ]
    }
   ],
   "source": [
    "from transformers import BartTokenizer, BartForConditionalGeneration\n",
    "import torch\n",
    "\n",
    "# 1. Chargement du modèle pré-entraîné BART (base ou large)\n",
    "model_name = \"facebook/bart-base\"\n",
    "tokenizer = BartTokenizer.from_pretrained(model_name)\n",
    "model = BartForConditionalGeneration.from_pretrained(model_name)\n",
    "\n",
    "# 2. Texte d'entrée\n",
    "texte = \"\"\"\n",
    "Artificial intelligence is transforming the way we work and live. From smart assistants to automated medical diagnostics, AI technologies are becoming increasingly integrated into our daily lives. However, this rapid progress also raises important questions about privacy, job displacement, and the ethical use of data.\n",
    "As AI continues to evolve, it is crucial for society to address these challenges and ensure that the benefits of AI are shared equitably. Policymakers, technologists, and the public must work together to create a framework that promotes innovation while safeguarding individual rights and societal values.\n",
    "The future of AI holds great promise, but it is essential to navigate the complexities it brings. By fostering collaboration and open dialogue, we can harness the power of AI to improve our world while minimizing its risks.\n",
    "\"\"\"\n",
    "\n",
    "# 3. Prétraitement : tokenisation\n",
    "inputs = tokenizer(texte, return_tensors=\"pt\", max_length=1024, truncation=True)\n",
    "\n",
    "# 4. Encodage du texte (embedding + encoder)\n",
    "with torch.no_grad():\n",
    "    encoder_outputs = model.model.encoder(**inputs)\n",
    "    hidden_states = encoder_outputs.last_hidden_state  # (batch_size, seq_len, hidden_dim)\n",
    "\n",
    "# 5. Décodage\n",
    "summary_ids = model.generate(\n",
    "    inputs[\"input_ids\"],\n",
    "    max_length=50,\n",
    "    num_beams=4,\n",
    "    early_stopping=True\n",
    ")\n",
    "\n",
    "# 6. Post-traitement : génération du résumé \"unembedding\"\n",
    "summary = tokenizer.decode(summary_ids[0], skip_special_tokens=True)\n",
    "\n",
    "print(\"📄 Texte original :\")\n",
    "print(texte)\n",
    "print(\"\\n📝 Résumé généré :\")\n",
    "print(summary)\n"
   ]
  },
  {
   "cell_type": "markdown",
   "id": "6048dc8f",
   "metadata": {},
   "source": [
    "Pour la classification regarder DistilBERT, RoBERTa, DeBERTa"
   ]
  },
  {
   "cell_type": "markdown",
   "id": "ab97915a",
   "metadata": {},
   "source": [
    "## Modèle maison"
   ]
  },
  {
   "cell_type": "markdown",
   "id": "aba8f0ae",
   "metadata": {},
   "source": [
    "Importation des données d'entrainement"
   ]
  },
  {
   "cell_type": "markdown",
   "id": "17f53e76",
   "metadata": {},
   "source": [
    "Dataset :\n",
    "- CNN/Dailymail\n",
    "- Wikitext : https://huggingface.co/datasets/Salesforce/wikitext/viewer/wikitext-103-raw-v1/train?p=1&views%5B%5D=wikitext_103_raw_v1_train&row=135"
   ]
  },
  {
   "cell_type": "code",
   "execution_count": 1,
   "id": "ba232f23",
   "metadata": {},
   "outputs": [],
   "source": [
    "import os\n",
    "os.environ['TF_CPP_MIN_LOG_LEVEL'] = '0'  # affiche tous les logs\n",
    "os.environ['CUDA_VISIBLE_DEVICES'] = '0'  # forcer usage GPU 0\n"
   ]
  },
  {
   "cell_type": "code",
   "execution_count": 2,
   "id": "7fc08b15",
   "metadata": {},
   "outputs": [
    {
     "name": "stdout",
     "output_type": "stream",
     "text": [
      "TensorFlow version: 2.19.0\n",
      "GPUs détectés : []\n",
      "[name: \"/device:CPU:0\"\n",
      "device_type: \"CPU\"\n",
      "memory_limit: 268435456\n",
      "locality {\n",
      "}\n",
      "incarnation: 4622351559110675773\n",
      "xla_global_id: -1\n",
      "]\n"
     ]
    }
   ],
   "source": [
    "import tensorflow as tf\n",
    "print(\"TensorFlow version:\", tf.__version__)\n",
    "\n",
    "gpus = tf.config.list_physical_devices('GPU')\n",
    "print(\"GPUs détectés :\", gpus)\n",
    "\n",
    "from tensorflow.python.client import device_lib\n",
    "print(device_lib.list_local_devices())\n"
   ]
  },
  {
   "cell_type": "code",
   "execution_count": 1,
   "id": "f5f2d182",
   "metadata": {},
   "outputs": [
    {
     "name": "stderr",
     "output_type": "stream",
     "text": [
      "c:\\Users\\USER\\AppData\\Local\\Programs\\Python\\Python312\\Lib\\site-packages\\tqdm\\auto.py:21: TqdmWarning: IProgress not found. Please update jupyter and ipywidgets. See https://ipywidgets.readthedocs.io/en/stable/user_install.html\n",
      "  from .autonotebook import tqdm as notebook_tqdm\n"
     ]
    },
    {
     "name": "stdout",
     "output_type": "stream",
     "text": [
      "{'article': 'LONDON, England (Reuters) -- Harry Potter star Daniel Radcliffe gains access to a reported £20 million ($41.1 million) fortune as he turns 18 on Monday, but he insists the money won\\'t cast a spell on him. Daniel Radcliffe as Harry Potter in \"Harry Potter and the Order of the Phoenix\" To the disappointment of gossip columnists around the world, the young actor says he has no plans to fritter his cash away on fast cars, drink and celebrity parties. \"I don\\'t plan to be one of those people who, as soon as they turn 18, suddenly buy themselves a massive sports car collection or something similar,\" he told an Australian interviewer earlier this month. \"I don\\'t think I\\'ll be particularly extravagant. \"The things I like buying are things that cost about 10 pounds -- books and CDs and DVDs.\" At 18, Radcliffe will be able to gamble in a casino, buy a drink in a pub or see the horror film \"Hostel: Part II,\" currently six places below his number one movie on the UK box office chart. Details of how he\\'ll mark his landmark birthday are under wraps. His agent and publicist had no comment on his plans. \"I\\'ll definitely have some sort of party,\" he said in an interview. \"Hopefully none of you will be reading about it.\" Radcliffe\\'s earnings from the first five Potter films have been held in a trust fund which he has not been able to touch. Despite his growing fame and riches, the actor says he is keeping his feet firmly on the ground. \"People are always looking to say \\'kid star goes off the rails,\\'\" he told reporters last month. \"But I try very hard not to go that way because it would be too easy for them.\" His latest outing as the boy wizard in \"Harry Potter and the Order of the Phoenix\" is breaking records on both sides of the Atlantic and he will reprise the role in the last two films.  Watch I-Reporter give her review of Potter\\'s latest » . There is life beyond Potter, however. The Londoner has filmed a TV movie called \"My Boy Jack,\" about author Rudyard Kipling and his son, due for release later this year. He will also appear in \"December Boys,\" an Australian film about four boys who escape an orphanage. Earlier this year, he made his stage debut playing a tortured teenager in Peter Shaffer\\'s \"Equus.\" Meanwhile, he is braced for even closer media scrutiny now that he\\'s legally an adult: \"I just think I\\'m going to be more sort of fair game,\" he told Reuters. E-mail to a friend . Copyright 2007 Reuters. All rights reserved.This material may not be published, broadcast, rewritten, or redistributed.', 'highlights': \"Harry Potter star Daniel Radcliffe gets £20M fortune as he turns 18 Monday .\\nYoung actor says he has no plans to fritter his cash away .\\nRadcliffe's earnings from first five Potter films have been held in trust fund .\", 'id': '42c027e4ff9730fbb3de84c1af0d2c506e41c3e4'}\n",
      "{'train': (287113, 3), 'validation': (13368, 3), 'test': (11490, 3)}\n"
     ]
    }
   ],
   "source": [
    "from datasets import load_dataset\n",
    "\n",
    "dataset = load_dataset(\"cnn_dailymail\", \"3.0.0\")\n",
    "print(dataset[\"train\"][0])\n",
    "print(dataset.shape)\n"
   ]
  },
  {
   "cell_type": "code",
   "execution_count": 2,
   "id": "79a31d69",
   "metadata": {},
   "outputs": [],
   "source": [
    "import numpy as np\n",
    "\n",
    "# df_train = dataset[\"train\"]\n",
    "df_train = dataset[\"train\"]#.shuffle(seed=42).select(range(5000)) à tester pour faciliter entrainnement du modèle\n",
    "x_train = df_train[\"article\"]\n",
    "y_train = df_train[\"highlights\"]\n",
    "\n",
    "df_test = dataset[\"test\"]\n",
    "x_test = df_test[\"article\"]\n",
    "y_test = df_test[\"highlights\"]\n",
    "\n",
    "df_val = dataset[\"validation\"]\n",
    "x_val = df_val[\"article\"]\n",
    "y_val = df_val[\"highlights\"]\n",
    "\n",
    "mini_x_train = x_train[:1000]\n",
    "mini_y_train = y_train[:1000]\n",
    "\n",
    "mini_x_test = x_test[:100]\n",
    "mini_y_test = y_test[:100]\n"
   ]
  },
  {
   "cell_type": "markdown",
   "id": "9784090d",
   "metadata": {},
   "source": [
    "## Modèle pour synthèse RNN et LSTM"
   ]
  },
  {
   "cell_type": "markdown",
   "id": "9ebd2132",
   "metadata": {},
   "source": [
    "### Modèle synthèse from scratch Seq2Seq (Encoder–Decoder)"
   ]
  },
  {
   "cell_type": "markdown",
   "id": "613dc00c",
   "metadata": {},
   "source": [
    "#### Tokenisation"
   ]
  },
  {
   "cell_type": "code",
   "execution_count": 3,
   "id": "06e61435",
   "metadata": {},
   "outputs": [
    {
     "name": "stdout",
     "output_type": "stream",
     "text": [
      "[42, 216, 305, 6588, 1494, 6133, 384, 1663, 13473, 6916, 1020, 3, 4, 287, 5379, 217, 2102, 134, 217, 3842, 19, 13, 3094, 392, 10, 311, 26, 13, 2783, 2, 261, 1349, 2502, 4, 4181, 10, 61, 1663, 13473, 19, 1494, 6133, 7, 1494, 6133, 5, 2, 603, 6, 2, 4892, 3, 2, 6514, 6, 10081, 38521, 124, 2, 105, 2, 234, 1569, 93, 13, 23, 75, 656, 3, 84545, 16, 1259, 211, 10, 1420, 1096, 1572, 5, 2159, 1761, 31, 226, 725, 3, 24, 44, 6, 139, 59, 33, 19, 697, 19, 30, 826, 392, 2846, 1107, 807, 4, 1529, 1144, 231, 1435, 53, 307, 798, 13, 73, 29, 1008, 15644, 343, 35, 203, 31, 226, 165, 3178, 24, 1308, 10797, 2, 396, 31, 89, 2570, 27, 396, 11, 664, 52, 185, 1751, 1888, 5, 19496, 5, 13735, 18, 392, 13473, 41, 24, 328, 3, 10928, 7, 4, 6026, 1107, 4, 1572, 7, 4, 3075, 53, 155, 2, 3513, 591, 13059, 177, 2387, 686, 232, 1535, 1563, 16, 252, 44, 1306, 10, 2, 314, 1438, 325, 7605, 1016, 6, 113, 4924, 630, 16, 5522, 1706, 27, 161, 13067, 16, 1936, 5, 10150, 32, 75, 980, 10, 16, 656, 3178, 2575, 22, 88, 1925, 6, 308, 13, 15, 7, 29, 760, 4070, 2209, 6, 54, 41, 24, 1912, 52, 17, 100512, 6444, 21, 2, 72, 182, 6133, 2507, 22, 38, 424, 7, 4, 1145, 1749, 48, 13, 23, 34, 38, 328, 3, 1801, 340, 16, 1047, 3209, 5, 15626, 2, 1569, 93, 13, 12, 1784, 16, 949, 6987, 10, 2, 624, 59, 27, 352, 393, 3, 132, 105486, 384, 1118, 106, 2, 16607, 37, 13, 73, 1402, 65, 203, 26, 31, 613, 125, 492, 34, 3, 157, 11, 138, 97, 17, 57, 24, 240, 1461, 9, 77, 16, 721, 10516, 19, 2, 614, 16112, 7, 1494, 6133, 5, 2, 603, 6, 2, 4892, 12, 1843, 1350, 10, 187, 2021, 6, 2, 3143, 5, 13, 41, 35164, 2, 657, 7, 2, 65, 58, 2507, 524, 31, 1011, 378, 25, 1526, 6, 31135, 721, 2346, 64, 12, 126, 1625, 6133, 275, 2, 21822, 23, 2463, 4, 583, 1306, 173, 83, 614, 1822, 52, 1966, 44111, 33428, 5, 16, 296, 507, 9, 851, 193, 35, 46, 13, 41, 56, 1149, 7, 513, 1232, 29, 1008, 591, 52, 145, 1232, 33, 1949, 29, 12620, 343, 35, 46, 13, 107, 16, 960, 2424, 646, 4, 6686, 1670, 7, 1255, 94230, 111204, 1267, 13, 12, 19576, 9, 131, 2398, 390, 5530, 82, 11, 584, 4496, 29, 2280, 31, 70, 165, 408, 149, 3, 24, 51, 1925, 6, 1815, 255, 13, 73, 6588, 953, 571, 3, 4, 504, 6394, 1034, 6588, 60, 522, 4720, 35, 2104, 120, 34, 24, 257, 2992, 24441, 53, 30758, 43]\n",
      "Index des tokens spéciaux :\n",
      "sos index: 42\n",
      "eos index: 43\n",
      "unk index: None\n",
      "Taille vocabulaire: 813596\n"
     ]
    }
   ],
   "source": [
    "from tensorflow.keras.preprocessing.text import Tokenizer\n",
    "\n",
    "# --- 1. Tokenisation \n",
    "num_word_token = 500000\n",
    "tokenizer = Tokenizer(num_words=num_word_token, oov_token=\"<unk>\")\n",
    "\n",
    "complet_text = x_train + y_train\n",
    "\n",
    "#Ajout de token spéciaux pour le modèle (afin qu'il reconnaisse les séquences de début et de fin et pas a la fin de chaque phrase car sinon on casse le rythme du modèle seq to seq)\n",
    "texts_for_fit = [\"<sos> \" + s + \" <eos>\" for s in complet_text]\n",
    "texts_for_fit_x = [\"<sos> \" + s + \" <eos>\" for s in x_train]\n",
    "texts_for_fit_y = [\"<sos> \" + s + \" <eos>\" for s in y_train]\n",
    "\n",
    "tokenizer.fit_on_texts(texts_for_fit)\n",
    "\n",
    "# --- 2. Conversion en séquences\n",
    "x_train_seq = tokenizer.texts_to_sequences(texts_for_fit_x)\n",
    "\n",
    "print(x_train_seq[0])\n",
    "# Vérification que les tokens spéciaux sont bien indexés\n",
    "print(\"Index des tokens spéciaux :\")\n",
    "print(\"sos index:\", tokenizer.word_index.get('sos'))\n",
    "print(\"eos index:\", tokenizer.word_index.get('eos'))\n",
    "print(\"unk index:\", tokenizer.word_index.get('unk')) #=> Pour les mots inconnus donc retourne None\n",
    "print(\"Taille vocabulaire:\", len(tokenizer.word_index))\n",
    "\n",
    "#Le tokenizer enlève les caractère spéciaux, comme les apostrophes, les tirets, etc. => Ce qui explique pourquoi on ne voit plus les <>\n"
   ]
  },
  {
   "cell_type": "code",
   "execution_count": 4,
   "id": "baaaac93",
   "metadata": {},
   "outputs": [
    {
     "name": "stdout",
     "output_type": "stream",
     "text": [
      "2224\n"
     ]
    },
    {
     "data": {
      "image/png": "[encoded data removed]",
      "text/plain": [
       "<Figure size 640x480 with 1 Axes>"
      ]
     },
     "metadata": {},
     "output_type": "display_data"
    },
    {
     "name": "stdout",
     "output_type": "stream",
     "text": [
      "Nombre de texte sup à 250 tokens : 13704 ce qui représente 4.77% du dataset\n",
      "Nous allons partir sur un troncage à 250 token pour facilité l'entrainnement du modèle\n"
     ]
    }
   ],
   "source": [
    "# Obtenir le nombre max de token d'une sequence sur tout le dataset\n",
    "max_len = max(len(seq) for seq in x_train_seq)\n",
    "print(max_len)\n",
    "\n",
    "import matplotlib.pyplot as plt\n",
    "\n",
    "seq_lengths = [len(seq) for seq in x_train_seq]\n",
    "plt.hist(seq_lengths, bins=50)\n",
    "plt.xlabel('Longueur des séquences')\n",
    "plt.ylabel('Nombre de séquences')\n",
    "plt.show()\n",
    "\n",
    "len_token_sentence = 250\n",
    "\n",
    "seq_lengths = np.array(seq_lengths)\n",
    "nb_inf = np.sum(seq_lengths < len_token_sentence)\n",
    "part_nb_inf = round((nb_inf/len(seq_lengths))*100,2)\n",
    "print(f'Nombre de texte sup à 250 tokens : {nb_inf} ce qui représente {part_nb_inf}% du dataset')\n",
    "print(\"Nous allons partir sur un troncage à 250 token pour facilité l'entrainnement du modèle\")"
   ]
  },
  {
   "cell_type": "markdown",
   "id": "dc45e577",
   "metadata": {},
   "source": [
    "### Filtrage du dataset pour éviter le troncage"
   ]
  },
  {
   "cell_type": "code",
   "execution_count": null,
   "id": "258ca0d9",
   "metadata": {},
   "outputs": [
    {
     "name": "stdout",
     "output_type": "stream",
     "text": [
      "13704\n",
      "249\n",
      "[[42, 627, 129, 1764, 156, 7723, 9771, 41, 1864, 19, 2201, 156, 4981, 395, 96, 156, 1664, 12, 108176, 9, 4, 3414, 37980, 295, 150, 400, 1910, 1445, 15, 339, 1664, 12, 1938, 3, 22, 2, 515, 2996, 474, 3, 137, 52, 194, 134, 194, 282, 18, 2, 1383, 6440, 18, 1374, 330, 3999, 1445, 15, 9143, 65, 37980, 8, 7, 540, 2167, 5, 75, 18071, 39, 109, 1445, 15, 2, 3329, 1230, 32, 4218, 4, 4944, 2996, 7, 52, 182, 74, 2, 2996, 41, 24, 11061, 20, 511, 1244, 79420, 5, 2553, 20, 4, 64342, 162, 21, 2, 237, 5119, 515, 618, 7, 24681, 3999, 1445, 15, 4, 37980, 12, 2, 115, 3856, 823, 9, 14001, 619, 41746, 619, 5, 60936, 495, 28211, 6, 2616, 11, 66, 370, 14174, 136, 3, 2, 12987, 3102, 495, 60936, 120, 24, 1340, 104, 2, 2996, 1445, 15, 11, 8, 2, 215, 45, 1664, 32, 61472, 81, 1505, 156, 1445, 454, 12, 5278, 5250, 9, 619, 11, 452, 7, 16, 14001, 5, 1631, 3, 16, 4857, 1445, 73, 1402, 13, 32, 4, 19339, 2178, 1938, 193, 339, 524, 1445, 886, 52, 9143, 2996, 5, 16, 207, 14001, 619, 2346, 2, 156, 805, 3, 3009, 2661, 3, 246, 2372, 1445, 15, 2, 286, 619, 1275, 8759, 11, 59, 266, 178, 649, 3982, 53, 2125, 1780, 475, 9485, 9, 1573, 6, 36432, 619, 18, 508, 535, 953, 571, 3, 4, 504, 43], [42, 1090, 2704, 673, 129, 4, 6688, 298, 194, 4103, 7201, 2, 1090, 2704, 320, 339, 18, 298, 1907, 4, 938, 20093, 405, 1907, 4, 938, 5088, 2, 119, 121, 11198, 1776, 287, 2, 6598, 99, 52, 194, 98, 1104, 266, 487, 15, 330, 17687, 4, 400, 9, 3225, 1250, 5, 726, 161, 2, 22260, 17501, 4, 6688, 298, 194, 4103, 12, 1197, 726, 48, 17, 93, 1598, 2350, 9337, 1052, 49, 32, 936, 4, 8360, 7, 895, 2515, 895, 6, 2252, 2209, 6, 128, 933, 2209, 6, 128, 1052, 11, 8, 287, 15, 7263, 376, 459753, 6, 2, 1090, 2704, 71, 17, 8, 5258, 7080, 524, 71, 3262, 1441, 895, 1044, 36, 2, 6598, 2346, 2, 6598, 8, 11008, 52, 58, 631, 548, 4960, 6, 7734, 18, 4, 5930, 6, 248, 288, 631, 2, 22260, 15, 7734, 12, 70, 548, 6, 1090, 2704, 300, 1090, 2704, 1981, 29, 7734, 71, 9454, 73, 129, 2, 6598, 208, 106, 14319, 18, 2903, 973, 2, 6204, 4864, 52, 535, 1820, 15, 129, 11179, 8724, 8689, 136, 3, 2, 22260, 6688, 298, 194, 23018, 27, 712, 11379, 5, 120, 858, 7091, 5, 2621, 5, 11977, 11335, 4010, 32864, 17131, 120, 510, 953, 571, 3, 4, 504, 43], [42, 14467, 3560, 6588, 12108, 1154, 4149, 183, 23, 38, 1633, 36, 4, 10086, 6761, 7, 5512, 9, 2, 944, 15, 2815, 8605, 251020, 336, 1735, 48, 12, 23198, 2, 183, 2030, 288468, 493, 5, 685, 86, 7884, 32, 820, 3, 84546, 3536, 1781, 7, 12108, 32440, 20880, 154, 3, 3090, 9, 2, 346553, 4536, 754, 48, 2825, 4, 3319, 6, 1809, 2620, 9, 4277, 4, 319, 21, 5854, 35059, 10, 311, 15, 288468, 236, 2846, 5, 13, 8, 291, 3, 22, 6761, 60, 2373, 3, 8022, 61, 20, 2, 8818, 515, 162, 5, 2, 18927, 171, 16, 1214, 7884, 750, 15, 5854, 35059, 48, 12, 1359, 1802, 20, 2, 2815, 1644, 7307, 32, 38, 507, 3, 416, 10, 394, 7, 2, 183, 2, 23719, 7884, 27, 13801, 44, 20, 44, 264, 4, 1391, 11962, 2, 2348, 261, 12, 4, 301, 5834, 7, 4, 210, 101, 115, 59, 417, 7, 2389, 3356, 5, 1983, 279, 21, 12108, 1128, 3611, 2, 1391, 8, 3, 110, 242, 217, 70012, 52, 2061, 98, 7, 1259, 4, 145, 3656, 1204, 11888, 5, 159, 866, 98, 70012, 52, 248, 5154, 3, 1107, 1890, 2, 1391, 79, 56, 22, 474, 3, 370, 29, 6334, 2159, 7977, 9341, 3452, 2, 4536, 754, 48, 363, 7, 1681, 1373, 178, 5065, 953, 571, 3, 4, 504, 6394, 1034, 6588, 60, 522, 4720, 35, 2104, 120, 34, 24, 257, 2992, 24441, 53, 30758, 43], [42, 216, 305, 768, 27, 1341, 10, 2, 2845, 6, 367, 2981, 607, 6, 6424, 1014, 263, 518, 14, 5461, 26, 2519, 5714, 23, 38, 1576, 50, 367, 2981, 3477, 50, 16, 4479, 5466, 104, 609, 9, 768, 10, 329, 618, 95, 2981, 716, 4, 1447, 26869, 104, 4670, 653, 653, 1597, 14, 6109, 5, 768, 567, 40861, 2866, 41, 155, 113, 13, 10205, 104, 609, 10, 329, 81, 350, 4, 456, 10, 16, 10929, 2981, 2471, 18, 37555, 50122, 1360, 14, 4, 258, 5466, 10, 36, 981, 10, 316, 367, 2981, 805, 3, 342, 48, 12, 125, 198, 82, 49, 254, 3, 1550, 9, 609, 5, 111, 49, 41, 1282, 14, 2, 515, 440, 5, 2200, 15, 2866, 2866, 23, 871, 11, 5714, 41, 2575, 1894, 2, 255, 50, 468, 19, 2, 1639, 1558, 3, 3587, 21, 16, 6919, 933, 1639, 531, 32866, 33, 1079, 4, 65, 945, 1391, 9, 768, 3, 5479, 5461, 50, 6, 65, 7727, 1014, 263, 23, 56, 38, 4232, 4, 1486, 933, 26, 13, 188, 177, 7, 609, 10, 329, 5, 12, 474, 3, 342, 953, 571, 3, 4, 504, 43], [42, 1422, 849, 129, 13238, 10, 311, 188, 2, 224898, 1070, 6, 350, 4, 1086, 1272, 9, 184, 3, 2438, 4, 135, 21, 17035, 24085, 989, 220, 21, 2, 907, 11, 17, 15, 672, 61, 2475, 5580, 8230, 1232, 35, 1165, 882, 413, 113, 71, 167, 2919, 3, 156883, 2, 882, 951, 13238, 2, 3750, 258, 8, 13700, 20, 2820, 42110, 26, 2, 827, 39, 3336, 6, 87, 5730, 136, 3, 4, 14431, 21, 13238, 2, 289, 71, 714, 420, 7, 9171, 849, 13238, 643, 592, 4891, 4569, 8144, 15, 2, 905, 22, 38, 10, 2, 2, 907, 9, 332, 74, 26, 1153, 22, 38, 1238, 3, 2416, 2, 3750, 2432, 53, 12943, 49, 22, 546, 60, 86, 717, 3, 2438, 5, 3, 815, 61, 3, 693, 26, 49, 27, 82, 3599, 11, 266, 2, 11593, 184, 35, 785, 9179, 79, 666, 3, 1522, 5, 2475, 840, 234, 142, 692, 3734, 1149, 3, 927, 21, 232, 3, 354, 3716, 8144, 15, 13, 15, 64, 12, 125, 198, 1125, 3, 353, 11, 13, 6411, 2, 105, 7, 603, 3, 2475, 840, 5, 10439, 2714, 142, 13238, 23, 1804, 2, 989, 39, 220, 7, 4713, 5, 9521, 2, 456, 3, 127, 204, 35, 3750, 684, 8, 34, 44, 48, 8, 220, 11462, 15, 18855, 204666, 1786, 536, 6, 41038, 4323, 7, 541, 10311, 1735, 2, 12057, 890, 5, 51, 435, 66, 24, 209, 528, 18, 41038, 1807, 512, 953, 571, 3, 4, 504, 43], [42, 129, 2, 4246, 363, 19, 4, 887, 1501, 10, 3581, 441, 7, 216, 1141, 7, 30598, 20, 367, 2064, 205, 2, 4246, 12, 29, 1692, 14, 7128, 1280, 2, 314, 14, 6964, 5, 440, 2254, 13117, 4047, 4088, 577, 59, 60, 4088, 577, 3199, 444, 27, 2945, 33, 207, 817, 367, 2064, 440, 2254, 22049, 10355, 6964, 29, 528, 5, 11411, 467, 367, 2064, 2202, 4, 2202, 703, 306, 459801, 94, 2013, 3896, 5, 4, 2319, 247, 1175, 5847, 2, 214, 2216, 6, 6288, 420, 10, 4, 4930, 5042, 6, 40, 1611, 4562, 2, 6288, 9, 1290, 8, 392, 4062, 3, 585, 362, 436, 48, 8, 4814, 50, 9, 247, 2634, 1265, 1098, 3757, 38668, 2016, 18, 2, 239, 6, 478, 1034, 16, 7022, 12, 2830, 36436, 149082, 4167, 9, 439, 817, 1290, 3, 439, 817, 1034, 8, 134, 4163, 217, 48, 957, 2, 4246, 6288, 6, 2893, 98, 367, 28263, 25710, 3873, 9, 2, 65, 1012, 46, 8, 312, 298, 1022, 953, 571, 3, 4, 504, 43], [42, 129, 2, 306, 8, 3074, 7, 6364, 20, 450, 3040, 1106, 3020, 6554, 4464, 142216, 38815, 1552, 5727, 9328, 459802, 12944, 11468, 1552, 288479, 5, 6248, 295, 44, 6, 96182, 72, 1433, 8, 459803, 2174, 7, 5568, 48, 12, 686, 2, 1191, 3436, 420, 2240, 1234, 428, 9, 2, 3500, 1106, 205, 96182, 7668, 10291, 1366, 4047, 288, 577, 175, 269, 16235, 5, 7668, 4915, 9, 121779, 5, 1315, 6454, 51, 68, 5780, 14650, 2000, 5809, 2580, 22, 8466, 96182, 4196, 121779, 16235, 32354, 12, 372, 2, 346, 6, 2, 121, 1652, 866, 5890, 3842, 866, 5, 4, 1391, 6, 2, 119, 121, 440, 6, 39899, 643, 6, 39899, 1266, 1758, 2, 306, 23, 38, 2678, 372, 66296, 577, 238, 1059, 3, 148, 9, 7, 795, 9, 685, 74, 7, 4, 1562, 5, 2, 11527, 814, 6, 115, 10638, 1059, 96182, 1611, 3873, 9, 1290, 8, 405, 2556, 1022, 14, 4, 2529, 2057, 6, 194, 2089, 1022, 953, 571, 3, 4, 504, 43], [42, 1422, 849, 5504, 19341, 3222, 1639, 16703, 23, 38, 732, 668, 623, 6, 2, 46, 6420, 849, 10646, 11519, 11784, 1758, 16703, 23, 324, 446, 60, 6, 2, 12522, 576, 9274, 16, 1121, 501, 58, 74, 36, 16, 1214, 24219, 10164, 21710, 446, 2, 1758, 2, 493, 46, 84, 16703, 8, 4, 576, 2671, 7, 5504, 19341, 17324, 1014, 263, 447, 2, 4775, 47, 8, 459, 4462, 5446, 4526, 4609, 2540, 14, 10164, 11336, 1639, 4854, 2769, 4602, 457, 35, 12, 125, 718, 9, 116, 17, 41748, 29, 6480, 46, 9, 116, 16703, 15, 117, 2, 228, 2348, 124, 5, 2, 100, 138, 3, 349, 307, 89, 35, 12, 3, 342, 9, 4, 162, 89, 5504, 2711, 117, 297, 3, 24, 177, 6, 4, 162, 11, 2718, 18, 493, 74, 84, 13, 23, 324, 489, 60, 2, 12522, 576, 9274, 12255, 5, 13488, 13, 8, 177, 6, 7402, 2167, 105, 323, 923, 1329, 589, 13, 8, 2094, 3, 70, 575, 443, 19, 4, 5086, 114, 2354, 6773, 13, 8, 228, 7570, 7, 65, 7727, 1014, 263, 1437, 2711, 3, 21794, 40, 1003, 3, 766, 7, 2, 1520, 398, 13, 489, 2, 1545, 1798, 1072, 7, 16, 72, 278, 18, 2711, 267, 1049, 21, 17325, 7647, 7100, 9, 543, 242, 217, 4, 5690, 11, 2711, 156, 15397, 8122, 111, 562, 19, 18120, 953, 571, 3, 4, 504, 43], [42, 129, 34129, 12, 29, 289, 251, 5, 371, 306, 14, 7128, 10, 94, 14104, 5, 51, 68, 483, 217, 1104, 34129, 452, 19, 2, 262, 175, 111214, 1343, 7, 12596, 3, 6400, 1713, 6, 1544, 7, 251, 371, 17, 563, 11, 14, 4, 237, 251, 351, 87, 2174, 4, 46, 193, 64, 57, 144, 24, 4, 254, 9, 4, 18154, 351, 10587, 59, 21, 60, 3745, 6, 126, 3, 3085, 2, 1428, 6, 1544, 7, 101, 45, 5, 20, 1517, 30, 39, 1178, 509, 20, 2, 1047, 204, 1882, 9, 251, 371, 5, 4, 1489, 6, 1612, 683, 6017, 34129, 11553, 2, 55768, 973, 8486, 1145, 193, 13142, 55768, 2443, 204669, 959, 5, 1440, 467, 12, 251, 1823, 7, 2, 314, 187, 9, 2227, 5, 9749, 11, 190, 3, 273, 36, 2, 251, 6, 40, 1696, 51, 68, 290, 6, 2, 5744, 228, 1059, 27, 34129, 1104, 2, 3325, 314, 371, 973, 1036, 3128, 371, 3, 929, 33, 737, 2, 2745, 2, 5120, 1741, 234, 59, 14, 1809, 53, 2352, 8112, 5, 59, 14, 1074, 164, 19, 12058, 5, 54974, 4684, 34129, 12, 4, 870, 4593, 306, 7, 2, 314, 1466, 780, 1982, 2247, 2604, 4150, 12400, 5, 2544, 4237, 34129, 289, 3532, 251, 1218, 3, 28512, 7, 69, 6753, 675, 176552, 2, 34129, 467, 7, 1466, 23, 44, 217, 18699, 1104, 33, 22, 1020, 3, 4, 1207, 6, 392, 98, 515, 5394, 5, 7761, 515, 6396, 953, 571, 3, 4, 504, 43], [42, 129, 44, 1008, 2223, 94, 2697, 5, 1984, 2097, 39, 243, 354, 339, 104, 1390, 946, 7, 1345, 1115, 136, 3, 435, 21, 1008, 5, 2953, 277, 145, 1008, 1094, 22, 82, 236, 7, 2, 1860, 7, 1115, 2, 445, 1703, 7, 105489, 142218, 7, 72495, 2130, 101, 1984, 2097, 243, 29, 1008, 15717, 2, 1008, 1404, 1654, 15, 2, 817, 46, 84, 15717, 29996, 3586, 29714, 6, 1766, 1289, 14, 2, 718, 1610, 2905, 201, 35, 12, 2, 1277, 1008, 9258, 3, 1567, 7, 2, 2339, 1860, 2, 560, 7, 48, 683, 29714, 236, 100, 2983, 7, 2, 65, 302, 282, 5, 8, 12533, 20, 1390, 401, 1828, 946, 2, 346589, 8, 5910, 29, 915, 3, 521, 29, 1247, 1984, 1772, 350, 2259, 7, 72495, 2130, 45, 2, 2223, 8, 335, 20, 495, 1603, 383, 472, 6, 2, 1404, 596, 399, 472, 11142, 13943, 3157, 15, 15698, 289, 271, 2854, 596, 15, 4, 1432, 252, 6, 1984, 6341, 39, 243, 53, 1487, 19, 177, 6, 2, 915, 1984, 6341, 11553, 2, 17799, 48, 4864, 332, 282, 4718, 4786, 65632, 13029, 400, 15, 17, 12, 34, 281, 113, 2, 2697, 58, 200, 5, 4, 299, 236, 275, 49, 102, 168, 11, 2, 6341, 1378, 1720, 13029, 1164, 21, 2, 4432, 7, 48, 2, 2339, 2697, 58, 200, 5, 44, 299, 39, 109, 36, 2, 645, 13029, 763, 60, 1279, 3, 1502, 5075, 6, 3031, 3511, 532, 953, 571, 3, 4, 504, 43]]\n"
     ]
    }
   ],
   "source": [
    "x_train_seq2 = []\n",
    "x_train2 =[]\n",
    "for i in x_train_seq:\n",
    "    if len(i) <250 :\n",
    "         x_train_seq2.append(i)\n",
    "\n",
    "print(len(x_train_seq2))\n",
    "Nb_token = [len(seq) for seq in x_train_seq2]\n",
    "print(max(Nb_token))\n",
    "print(x_train_seq2[:10])"
   ]
  },
  {
   "cell_type": "markdown",
   "id": "ba533733",
   "metadata": {},
   "source": [
    "### Embedding"
   ]
  },
  {
   "cell_type": "code",
   "execution_count": 7,
   "id": "8ae4a47b",
   "metadata": {},
   "outputs": [],
   "source": [
    "from gensim.models import Word2Vec\n",
    "\n",
    "sentences = [s.split() for s in texts_for_fit_x]\n",
    "word2vec = Word2Vec(sentences, vector_size=100, window=5, min_count=1, workers=4)\n",
    "\n",
    "embedding_dim = 100  \n",
    "word_index = tokenizer.word_index\n",
    "vocab_size = min(num_word_token, len(word_index)) + 1\n",
    "\n",
    "# Matrice initialisée à zéro\n",
    "embedding_matrix = np.zeros((vocab_size, embedding_dim))\n",
    "\n",
    "# Remplir la matrice avec les vecteurs Word2Vec\n",
    "for word, i in word_index.items():\n",
    "    if i >= vocab_size:\n",
    "        continue\n",
    "    if word in word2vec.wv:\n",
    "        embedding_matrix[i] = word2vec.wv[word]\n",
    "    else:\n",
    "        # Sinon, laisse un vecteur nul (ou tu peux mettre du bruit aléatoire)\n",
    "        embedding_matrix[i] = np.random.normal(scale=0.6, size=(embedding_dim,))"
   ]
  },
  {
   "cell_type": "code",
   "execution_count": 8,
   "id": "001201da",
   "metadata": {},
   "outputs": [
    {
     "name": "stdout",
     "output_type": "stream",
     "text": [
      "3\n",
      "[-4.92345572e+00  7.00824082e-01  6.89447641e+00 -1.69778454e+00\n",
      " -1.98331928e+00  1.00524592e+00 -2.15554476e+00 -2.09611154e+00\n",
      "  2.70765205e-03 -1.44053653e-01  2.30726004e+00  1.75514603e+00\n",
      " -1.90051985e+00  5.27853870e+00  1.48908424e+00 -6.29056597e+00\n",
      " -5.41666985e+00 -2.59624076e+00 -3.68269491e+00  9.63919982e-02\n",
      " -4.05941105e+00 -3.91365051e+00  4.85412312e+00 -1.62773871e+00\n",
      "  1.07523906e+00  7.09555209e-01  1.19434893e+00  3.07036161e+00\n",
      "  2.68337607e+00  1.19562280e+00  2.00057435e+00  3.50957721e-01\n",
      " -3.33754897e+00  4.75333273e-01 -4.35329229e-02  3.03540683e+00\n",
      " -1.35771430e+00 -4.77833420e-01  4.51404953e+00  5.12701225e+00\n",
      " -4.12617445e+00 -2.84520268e+00  3.34777784e+00 -2.57369187e-02\n",
      "  3.91687441e+00  3.87300682e+00  1.50426126e+00 -5.03843546e+00\n",
      " -3.81812429e+00 -2.44377255e+00  2.14896107e+00 -5.36380434e+00\n",
      "  9.21726763e-01 -1.27962029e+00 -3.37533474e+00  9.32780683e-01\n",
      "  6.46621406e-01  2.25621057e+00  2.78801955e-02  1.58035040e+00\n",
      " -3.27982950e+00  3.09672922e-01 -4.07107115e+00 -3.84300947e+00\n",
      "  4.71343565e+00 -2.70789051e+00  3.63294125e+00  2.80572891e+00\n",
      "  4.11823082e+00  1.42903760e-01  1.24462712e+00 -2.44229531e+00\n",
      " -5.48052073e+00 -1.02781343e+00 -2.74883863e-03 -7.99892247e-01\n",
      " -1.87590793e-01 -9.98875856e-01 -1.12644351e+00  6.21820271e-01\n",
      " -2.07458711e+00 -3.27002311e+00 -3.13628626e+00 -2.82295924e-02\n",
      "  5.55355740e+00  6.64521217e-01 -6.81120157e-01 -1.81698775e+00\n",
      " -1.02344537e+00 -2.60170770e+00  5.26118422e+00 -3.19198775e+00\n",
      " -2.79963875e+00  2.73686385e+00 -3.54643869e+00  2.49104524e+00\n",
      " -6.30544662e-01 -9.54117656e-01 -1.85819519e+00  2.56907701e-01]\n",
      "(500001, 100)\n"
     ]
    }
   ],
   "source": [
    "#Exemple d'un token avec ça correspondance en vecteur\n",
    "print(tokenizer.word_index.get('to'))\n",
    "print(embedding_matrix[3])\n",
    "print(embedding_matrix.shape)"
   ]
  },
  {
   "cell_type": "markdown",
   "id": "bee4c10f",
   "metadata": {},
   "source": [
    "### Padding\n",
    "Pas directement utile pour l'entrainnement (car on va refaire un padding pour chaque élément du modèle) mais pour les contrôles"
   ]
  },
  {
   "cell_type": "code",
   "execution_count": 9,
   "id": "59823293",
   "metadata": {},
   "outputs": [
    {
     "name": "stdout",
     "output_type": "stream",
     "text": [
      "[    42    627    129   1764    156   7723   9771     41   1864     19\n",
      "   2201    156   4981    395     96    156   1664     12 108176      9\n",
      "      4   3414  37980    295    150    400   1910   1445     15    339\n",
      "   1664     12   1938      3     22      2    515   2996    474      3\n",
      "    137     52    194    134    194    282     18      2   1383   6440\n",
      "     18   1374    330   3999   1445     15   9143     65  37980      8\n",
      "      7    540   2167      5     75  18071     39    109   1445     15\n",
      "      2   3329   1230     32   4218      4   4944   2996      7     52\n",
      "    182     74      2   2996     41     24  11061     20    511   1244\n",
      "  79420      5   2553     20      4  64342    162     21      2    237\n",
      "   5119    515    618      7  24681   3999   1445     15      4  37980\n",
      "     12      2    115   3856    823      9  14001    619  41746    619\n",
      "      5  60936    495  28211      6   2616     11     66    370  14174\n",
      "    136      3      2  12987   3102    495  60936    120     24   1340\n",
      "    104      2   2996   1445     15     11      8      2    215     45\n",
      "   1664     32  61472     81   1505    156   1445    454     12   5278\n",
      "   5250      9    619     11    452      7     16  14001      5   1631\n",
      "      3     16   4857   1445     73   1402     13     32      4  19339\n",
      "   2178   1938    193    339    524   1445    886     52   9143   2996\n",
      "      5     16    207  14001    619   2346      2    156    805      3\n",
      "   3009   2661      3    246   2372   1445     15      2    286    619\n",
      "   1275   8759     11     59    266    178    649   3982     53   2125\n",
      "   1780    475   9485      9   1573      6  36432    619     18    508\n",
      "    535    953    571      3      4    504     43      0      0      0\n",
      "      0      0      0      0      0      0      0      0      0]\n",
      "249\n",
      "13704\n",
      "int32\n"
     ]
    }
   ],
   "source": [
    "from tensorflow.keras.preprocessing.sequence import pad_sequences\n",
    "\n",
    "x_train_padded = pad_sequences(x_train_seq2, maxlen =249, padding = 'post', value = 0 )\n",
    "print(x_train_padded[0])\n",
    "print(len(x_train_padded[0]))\n",
    "print(len(x_train_padded))\n",
    "print(x_train_padded.dtype)"
   ]
  },
  {
   "cell_type": "code",
   "execution_count": 15,
   "id": "0bfa7a48",
   "metadata": {},
   "outputs": [],
   "source": [
    "from tensorflow.keras.preprocessing.sequence import pad_sequences\n",
    "import numpy as np\n",
    "\n",
    "# 1. Séquences source (encodeur) — sans <sos> ni <eos>\n",
    "x_train_seq_without_spetk = [\n",
    "    [elem for elem in seq if elem not in (42, 43)]\n",
    "    for seq in x_train_seq2\n",
    "]\n",
    "# encoder_input_seq = tokenizer.texts_to_sequences(x_train_seq_without_spetk)\n",
    "encoder_input_seq = pad_sequences(x_train_seq_without_spetk,maxlen =249, padding = 'post', value = 0 )\n",
    "\n",
    "# 2. Décodeur - entrée (avec <sos>, sans <eos>)\n",
    "decoder_input_seq = tokenizer.texts_to_sequences([\"<sos> \" + s for s in y_train])\n",
    "decoder_input_seq = pad_sequences(decoder_input_seq,maxlen =249, padding = 'post', value = 0 )\n",
    "\n",
    "# 3. Décodeur - cible (sans <sos>, avec <eos>)\n",
    "decoder_target_seq = tokenizer.texts_to_sequences([s + \" <eos>\" for s in y_train])\n",
    "decoder_target_seq = pad_sequences(decoder_target_seq,maxlen =249, padding = 'post', value = 0 )\n",
    "\n",
    "# 4. Adapter au format attendu (shape = (batch, seq_len, 1))\n",
    "decoder_target_seq = np.expand_dims(decoder_target_seq, -1)\n"
   ]
  },
  {
   "cell_type": "markdown",
   "id": "0396bac6",
   "metadata": {},
   "source": [
    "### Création du modèle"
   ]
  },
  {
   "cell_type": "code",
   "execution_count": 16,
   "id": "7fc8c1ca",
   "metadata": {},
   "outputs": [
    {
     "name": "stderr",
     "output_type": "stream",
     "text": [
      "c:\\Users\\USER\\AppData\\Local\\Programs\\Python\\Python312\\Lib\\site-packages\\keras\\src\\layers\\core\\embedding.py:90: UserWarning: Argument `input_length` is deprecated. Just remove it.\n",
      "  warnings.warn(\n"
     ]
    }
   ],
   "source": [
    "from tensorflow.keras.models import Model\n",
    "from tensorflow.keras.layers import Input, LSTM, Dense, Embedding, Attention, Concatenate\n",
    "\n",
    "# --- Paramètres\n",
    "latent_dim = 249\n",
    "vocab_size = embedding_matrix.shape[0]\n",
    "embedding_dim = embedding_matrix.shape[1]\n",
    "max_seq_len = x_train_padded.shape[1]\n",
    "\n",
    "# --- Encoder\n",
    "encoder_inputs = Input(shape=(max_seq_len,))\n",
    "encoder_embedding_layer = Embedding(\n",
    "    input_dim=vocab_size,\n",
    "    output_dim=embedding_dim,\n",
    "    weights=[embedding_matrix],\n",
    "    input_length=max_seq_len,\n",
    "    trainable=True #Fine-tune l'embedding afin de l'adapter au mieux au data d'entrainnement\n",
    ")\n",
    "\n",
    "encoder_embedding = encoder_embedding_layer(encoder_inputs)#Pour ne pas perdre la référence de la couche\n",
    "encoder_lstm = LSTM(latent_dim, return_sequences=True, return_state=True)\n",
    "encoder_outputs, state_h, state_c = encoder_lstm(encoder_embedding)\n",
    "encoder_states = [state_h, state_c]\n",
    "\n",
    "\n",
    "# --- Decoder\n",
    "decoder_inputs = Input(shape=(None,))  # Attention : None pour pouvoir générer pas à pas\n",
    "decoder_embedding_layer = Embedding(\n",
    "    input_dim=vocab_size,\n",
    "    output_dim=embedding_dim,\n",
    "    weights=[embedding_matrix],\n",
    "    trainable=True #Fine-tune l'embedding afin de l'adapter au mieux au data d'entrainnement\n",
    ")\n",
    "decoder_embedding = decoder_embedding_layer(decoder_inputs) #Pour ne pas perdre la référence de la couche\n",
    "decoder_lstm = LSTM(latent_dim, return_sequences=True, return_state=True)\n",
    "decoder_outputs, _, _ = decoder_lstm(decoder_embedding, initial_state=encoder_states)\n",
    "\n",
    "# -- Attention (Luong-like avec multiplicative score)\n",
    "attention_layer = Attention()\n",
    "attention_outputs = attention_layer([decoder_outputs, encoder_outputs])  # shape: (batch, tgt_len, latent_dim)\n",
    "\n",
    "# -- Concatener contexte + sortie décodeur\n",
    "decoder_combined_context = Concatenate(axis=-1)([decoder_outputs, attention_outputs])\n",
    "\n",
    "# --- Dense de sortie\n",
    "decoder_dense = Dense(vocab_size, activation='softmax')  # projection sur le vocab\n",
    "decoder_outputs = decoder_dense(decoder_combined_context)\n",
    "\n",
    "# --- Modèle final (entraînement)\n",
    "model = Model([encoder_inputs, decoder_inputs], decoder_outputs)\n",
    "model.compile(optimizer='adam', loss='sparse_categorical_crossentropy')\n",
    "# sparse_categorical_crossentropy (et pas categorical_crossentropy) car cible sont des entiers et non des vecteurs one-hot\n",
    "# On ajoute pas de metrics comme accuracy car elle serait calculé token par token ce qui est trompeur (pas bon KPI) car on veux évaluer le sens global de la phrase pas juste correspondance des tokens\n"
   ]
  },
  {
   "cell_type": "markdown",
   "id": "dca39719",
   "metadata": {},
   "source": [
    "#### Entrainnement du modèle"
   ]
  },
  {
   "cell_type": "code",
   "execution_count": null,
   "id": "ea75952f",
   "metadata": {},
   "outputs": [
    {
     "name": "stdout",
     "output_type": "stream",
     "text": [
      "Epoch 1/50\n",
      "\u001b[1m  84/1542\u001b[0m \u001b[32m━\u001b[0m\u001b[37m━━━━━━━━━━━━━━━━━━━\u001b[0m \u001b[1m5:53:28\u001b[0m 15s/step - loss: 6.6857"
     ]
    }
   ],
   "source": [
    "from tensorflow.keras.callbacks import EarlyStopping,ModelCheckpoint\n",
    "\n",
    "\n",
    "\n",
    "early_stop = EarlyStopping(\n",
    "    monitor='val_loss',\n",
    "    patience=3,              # Nombre d'époques sans amélioration avant arrêt\n",
    "    restore_best_weights=True,  # Revenir aux meilleurs poids\n",
    "    verbose=1\n",
    ")\n",
    "\n",
    "checkpoint = ModelCheckpoint(\n",
    "    filepath='best_seq2seq_model.h5',\n",
    "    monitor='val_loss',\n",
    "    save_best_only=True,\n",
    "    verbose=1\n",
    ")\n",
    "\n",
    "history = model.fit(\n",
    "    [encoder_input_seq, decoder_input_seq],\n",
    "    decoder_target_seq,\n",
    "    batch_size=8,\n",
    "    epochs=50,\n",
    "    validation_split=0.1,\n",
    "    callbacks=[early_stop, checkpoint]\n",
    ")\n"
   ]
  },
  {
   "cell_type": "markdown",
   "id": "f8d10656",
   "metadata": {},
   "source": [
    "#### Importation modèle"
   ]
  },
  {
   "cell_type": "code",
   "execution_count": null,
   "id": "8ea77851",
   "metadata": {},
   "outputs": [
    {
     "data": {
      "text/html": [
       "<pre style=\"white-space:pre;overflow-x:auto;line-height:normal;font-family:Menlo,'DejaVu Sans Mono',consolas,'Courier New',monospace\"><span style=\"font-weight: bold\">Model: \"functional_4\"</span>\n",
       "</pre>\n"
      ],
      "text/plain": [
       "\u001b[1mModel: \"functional_4\"\u001b[0m\n"
      ]
     },
     "metadata": {},
     "output_type": "display_data"
    },
    {
     "data": {
      "text/html": [
       "<pre style=\"white-space:pre;overflow-x:auto;line-height:normal;font-family:Menlo,'DejaVu Sans Mono',consolas,'Courier New',monospace\">┏━━━━━━━━━━━━━━━━━━━━━┳━━━━━━━━━━━━━━━━━━━┳━━━━━━━━━━━━┳━━━━━━━━━━━━━━━━━━━┓\n",
       "┃<span style=\"font-weight: bold\"> Layer (type)        </span>┃<span style=\"font-weight: bold\"> Output Shape      </span>┃<span style=\"font-weight: bold\">    Param # </span>┃<span style=\"font-weight: bold\"> Connected to      </span>┃\n",
       "┡━━━━━━━━━━━━━━━━━━━━━╇━━━━━━━━━━━━━━━━━━━╇━━━━━━━━━━━━╇━━━━━━━━━━━━━━━━━━━┩\n",
       "│ input_layer_8       │ (<span style=\"color: #00d7ff; text-decoration-color: #00d7ff\">None</span>, <span style=\"color: #00af00; text-decoration-color: #00af00\">500</span>)       │          <span style=\"color: #00af00; text-decoration-color: #00af00\">0</span> │ -                 │\n",
       "│ (<span style=\"color: #0087ff; text-decoration-color: #0087ff\">InputLayer</span>)        │                   │            │                   │\n",
       "├─────────────────────┼───────────────────┼────────────┼───────────────────┤\n",
       "│ input_layer_9       │ (<span style=\"color: #00d7ff; text-decoration-color: #00d7ff\">None</span>, <span style=\"color: #00d7ff; text-decoration-color: #00d7ff\">None</span>)      │          <span style=\"color: #00af00; text-decoration-color: #00af00\">0</span> │ -                 │\n",
       "│ (<span style=\"color: #0087ff; text-decoration-color: #0087ff\">InputLayer</span>)        │                   │            │                   │\n",
       "├─────────────────────┼───────────────────┼────────────┼───────────────────┤\n",
       "│ embedding_8         │ (<span style=\"color: #00d7ff; text-decoration-color: #00d7ff\">None</span>, <span style=\"color: #00af00; text-decoration-color: #00af00\">500</span>, <span style=\"color: #00af00; text-decoration-color: #00af00\">100</span>)  │  <span style=\"color: #00af00; text-decoration-color: #00af00\">9,197,200</span> │ input_layer_8[<span style=\"color: #00af00; text-decoration-color: #00af00\">0</span>]… │\n",
       "│ (<span style=\"color: #0087ff; text-decoration-color: #0087ff\">Embedding</span>)         │                   │            │                   │\n",
       "├─────────────────────┼───────────────────┼────────────┼───────────────────┤\n",
       "│ embedding_9         │ (<span style=\"color: #00d7ff; text-decoration-color: #00d7ff\">None</span>, <span style=\"color: #00d7ff; text-decoration-color: #00d7ff\">None</span>, <span style=\"color: #00af00; text-decoration-color: #00af00\">100</span>) │  <span style=\"color: #00af00; text-decoration-color: #00af00\">9,197,200</span> │ input_layer_9[<span style=\"color: #00af00; text-decoration-color: #00af00\">0</span>]… │\n",
       "│ (<span style=\"color: #0087ff; text-decoration-color: #0087ff\">Embedding</span>)         │                   │            │                   │\n",
       "├─────────────────────┼───────────────────┼────────────┼───────────────────┤\n",
       "│ lstm_8 (<span style=\"color: #0087ff; text-decoration-color: #0087ff\">LSTM</span>)       │ [(<span style=\"color: #00d7ff; text-decoration-color: #00d7ff\">None</span>, <span style=\"color: #00af00; text-decoration-color: #00af00\">500</span>,      │    <span style=\"color: #00af00; text-decoration-color: #00af00\">365,568</span> │ embedding_8[<span style=\"color: #00af00; text-decoration-color: #00af00\">0</span>][<span style=\"color: #00af00; text-decoration-color: #00af00\">0</span>] │\n",
       "│                     │ <span style=\"color: #00af00; text-decoration-color: #00af00\">256</span>), (<span style=\"color: #00d7ff; text-decoration-color: #00d7ff\">None</span>,      │            │                   │\n",
       "│                     │ <span style=\"color: #00af00; text-decoration-color: #00af00\">256</span>), (<span style=\"color: #00d7ff; text-decoration-color: #00d7ff\">None</span>,      │            │                   │\n",
       "│                     │ <span style=\"color: #00af00; text-decoration-color: #00af00\">256</span>)]             │            │                   │\n",
       "├─────────────────────┼───────────────────┼────────────┼───────────────────┤\n",
       "│ lstm_9 (<span style=\"color: #0087ff; text-decoration-color: #0087ff\">LSTM</span>)       │ [(<span style=\"color: #00d7ff; text-decoration-color: #00d7ff\">None</span>, <span style=\"color: #00d7ff; text-decoration-color: #00d7ff\">None</span>,     │    <span style=\"color: #00af00; text-decoration-color: #00af00\">365,568</span> │ embedding_9[<span style=\"color: #00af00; text-decoration-color: #00af00\">0</span>][<span style=\"color: #00af00; text-decoration-color: #00af00\">0</span>… │\n",
       "│                     │ <span style=\"color: #00af00; text-decoration-color: #00af00\">256</span>), (<span style=\"color: #00d7ff; text-decoration-color: #00d7ff\">None</span>,      │            │ lstm_8[<span style=\"color: #00af00; text-decoration-color: #00af00\">0</span>][<span style=\"color: #00af00; text-decoration-color: #00af00\">1</span>],     │\n",
       "│                     │ <span style=\"color: #00af00; text-decoration-color: #00af00\">256</span>), (<span style=\"color: #00d7ff; text-decoration-color: #00d7ff\">None</span>,      │            │ lstm_8[<span style=\"color: #00af00; text-decoration-color: #00af00\">0</span>][<span style=\"color: #00af00; text-decoration-color: #00af00\">2</span>]      │\n",
       "│                     │ <span style=\"color: #00af00; text-decoration-color: #00af00\">256</span>)]             │            │                   │\n",
       "├─────────────────────┼───────────────────┼────────────┼───────────────────┤\n",
       "│ attention_4         │ (<span style=\"color: #00d7ff; text-decoration-color: #00d7ff\">None</span>, <span style=\"color: #00d7ff; text-decoration-color: #00d7ff\">None</span>, <span style=\"color: #00af00; text-decoration-color: #00af00\">256</span>) │          <span style=\"color: #00af00; text-decoration-color: #00af00\">0</span> │ lstm_9[<span style=\"color: #00af00; text-decoration-color: #00af00\">0</span>][<span style=\"color: #00af00; text-decoration-color: #00af00\">0</span>],     │\n",
       "│ (<span style=\"color: #0087ff; text-decoration-color: #0087ff\">Attention</span>)         │                   │            │ lstm_8[<span style=\"color: #00af00; text-decoration-color: #00af00\">0</span>][<span style=\"color: #00af00; text-decoration-color: #00af00\">0</span>]      │\n",
       "├─────────────────────┼───────────────────┼────────────┼───────────────────┤\n",
       "│ concatenate_4       │ (<span style=\"color: #00d7ff; text-decoration-color: #00d7ff\">None</span>, <span style=\"color: #00d7ff; text-decoration-color: #00d7ff\">None</span>, <span style=\"color: #00af00; text-decoration-color: #00af00\">512</span>) │          <span style=\"color: #00af00; text-decoration-color: #00af00\">0</span> │ lstm_9[<span style=\"color: #00af00; text-decoration-color: #00af00\">0</span>][<span style=\"color: #00af00; text-decoration-color: #00af00\">0</span>],     │\n",
       "│ (<span style=\"color: #0087ff; text-decoration-color: #0087ff\">Concatenate</span>)       │                   │            │ attention_4[<span style=\"color: #00af00; text-decoration-color: #00af00\">0</span>][<span style=\"color: #00af00; text-decoration-color: #00af00\">0</span>] │\n",
       "├─────────────────────┼───────────────────┼────────────┼───────────────────┤\n",
       "│ dense_4 (<span style=\"color: #0087ff; text-decoration-color: #0087ff\">Dense</span>)     │ (<span style=\"color: #00d7ff; text-decoration-color: #00d7ff\">None</span>, <span style=\"color: #00d7ff; text-decoration-color: #00d7ff\">None</span>,      │ <span style=\"color: #00af00; text-decoration-color: #00af00\">47,181,636</span> │ concatenate_4[<span style=\"color: #00af00; text-decoration-color: #00af00\">0</span>]… │\n",
       "│                     │ <span style=\"color: #00af00; text-decoration-color: #00af00\">91972</span>)            │            │                   │\n",
       "└─────────────────────┴───────────────────┴────────────┴───────────────────┘\n",
       "</pre>\n"
      ],
      "text/plain": [
       "┏━━━━━━━━━━━━━━━━━━━━━┳━━━━━━━━━━━━━━━━━━━┳━━━━━━━━━━━━┳━━━━━━━━━━━━━━━━━━━┓\n",
       "┃\u001b[1m \u001b[0m\u001b[1mLayer (type)       \u001b[0m\u001b[1m \u001b[0m┃\u001b[1m \u001b[0m\u001b[1mOutput Shape     \u001b[0m\u001b[1m \u001b[0m┃\u001b[1m \u001b[0m\u001b[1m   Param #\u001b[0m\u001b[1m \u001b[0m┃\u001b[1m \u001b[0m\u001b[1mConnected to     \u001b[0m\u001b[1m \u001b[0m┃\n",
       "┡━━━━━━━━━━━━━━━━━━━━━╇━━━━━━━━━━━━━━━━━━━╇━━━━━━━━━━━━╇━━━━━━━━━━━━━━━━━━━┩\n",
       "│ input_layer_8       │ (\u001b[38;5;45mNone\u001b[0m, \u001b[38;5;34m500\u001b[0m)       │          \u001b[38;5;34m0\u001b[0m │ -                 │\n",
       "│ (\u001b[38;5;33mInputLayer\u001b[0m)        │                   │            │                   │\n",
       "├─────────────────────┼───────────────────┼────────────┼───────────────────┤\n",
       "│ input_layer_9       │ (\u001b[38;5;45mNone\u001b[0m, \u001b[38;5;45mNone\u001b[0m)      │          \u001b[38;5;34m0\u001b[0m │ -                 │\n",
       "│ (\u001b[38;5;33mInputLayer\u001b[0m)        │                   │            │                   │\n",
       "├─────────────────────┼───────────────────┼────────────┼───────────────────┤\n",
       "│ embedding_8         │ (\u001b[38;5;45mNone\u001b[0m, \u001b[38;5;34m500\u001b[0m, \u001b[38;5;34m100\u001b[0m)  │  \u001b[38;5;34m9,197,200\u001b[0m │ input_layer_8[\u001b[38;5;34m0\u001b[0m]… │\n",
       "│ (\u001b[38;5;33mEmbedding\u001b[0m)         │                   │            │                   │\n",
       "├─────────────────────┼───────────────────┼────────────┼───────────────────┤\n",
       "│ embedding_9         │ (\u001b[38;5;45mNone\u001b[0m, \u001b[38;5;45mNone\u001b[0m, \u001b[38;5;34m100\u001b[0m) │  \u001b[38;5;34m9,197,200\u001b[0m │ input_layer_9[\u001b[38;5;34m0\u001b[0m]… │\n",
       "│ (\u001b[38;5;33mEmbedding\u001b[0m)         │                   │            │                   │\n",
       "├─────────────────────┼───────────────────┼────────────┼───────────────────┤\n",
       "│ lstm_8 (\u001b[38;5;33mLSTM\u001b[0m)       │ [(\u001b[38;5;45mNone\u001b[0m, \u001b[38;5;34m500\u001b[0m,      │    \u001b[38;5;34m365,568\u001b[0m │ embedding_8[\u001b[38;5;34m0\u001b[0m][\u001b[38;5;34m0\u001b[0m] │\n",
       "│                     │ \u001b[38;5;34m256\u001b[0m), (\u001b[38;5;45mNone\u001b[0m,      │            │                   │\n",
       "│                     │ \u001b[38;5;34m256\u001b[0m), (\u001b[38;5;45mNone\u001b[0m,      │            │                   │\n",
       "│                     │ \u001b[38;5;34m256\u001b[0m)]             │            │                   │\n",
       "├─────────────────────┼───────────────────┼────────────┼───────────────────┤\n",
       "│ lstm_9 (\u001b[38;5;33mLSTM\u001b[0m)       │ [(\u001b[38;5;45mNone\u001b[0m, \u001b[38;5;45mNone\u001b[0m,     │    \u001b[38;5;34m365,568\u001b[0m │ embedding_9[\u001b[38;5;34m0\u001b[0m][\u001b[38;5;34m0\u001b[0m… │\n",
       "│                     │ \u001b[38;5;34m256\u001b[0m), (\u001b[38;5;45mNone\u001b[0m,      │            │ lstm_8[\u001b[38;5;34m0\u001b[0m][\u001b[38;5;34m1\u001b[0m],     │\n",
       "│                     │ \u001b[38;5;34m256\u001b[0m), (\u001b[38;5;45mNone\u001b[0m,      │            │ lstm_8[\u001b[38;5;34m0\u001b[0m][\u001b[38;5;34m2\u001b[0m]      │\n",
       "│                     │ \u001b[38;5;34m256\u001b[0m)]             │            │                   │\n",
       "├─────────────────────┼───────────────────┼────────────┼───────────────────┤\n",
       "│ attention_4         │ (\u001b[38;5;45mNone\u001b[0m, \u001b[38;5;45mNone\u001b[0m, \u001b[38;5;34m256\u001b[0m) │          \u001b[38;5;34m0\u001b[0m │ lstm_9[\u001b[38;5;34m0\u001b[0m][\u001b[38;5;34m0\u001b[0m],     │\n",
       "│ (\u001b[38;5;33mAttention\u001b[0m)         │                   │            │ lstm_8[\u001b[38;5;34m0\u001b[0m][\u001b[38;5;34m0\u001b[0m]      │\n",
       "├─────────────────────┼───────────────────┼────────────┼───────────────────┤\n",
       "│ concatenate_4       │ (\u001b[38;5;45mNone\u001b[0m, \u001b[38;5;45mNone\u001b[0m, \u001b[38;5;34m512\u001b[0m) │          \u001b[38;5;34m0\u001b[0m │ lstm_9[\u001b[38;5;34m0\u001b[0m][\u001b[38;5;34m0\u001b[0m],     │\n",
       "│ (\u001b[38;5;33mConcatenate\u001b[0m)       │                   │            │ attention_4[\u001b[38;5;34m0\u001b[0m][\u001b[38;5;34m0\u001b[0m] │\n",
       "├─────────────────────┼───────────────────┼────────────┼───────────────────┤\n",
       "│ dense_4 (\u001b[38;5;33mDense\u001b[0m)     │ (\u001b[38;5;45mNone\u001b[0m, \u001b[38;5;45mNone\u001b[0m,      │ \u001b[38;5;34m47,181,636\u001b[0m │ concatenate_4[\u001b[38;5;34m0\u001b[0m]… │\n",
       "│                     │ \u001b[38;5;34m91972\u001b[0m)            │            │                   │\n",
       "└─────────────────────┴───────────────────┴────────────┴───────────────────┘\n"
      ]
     },
     "metadata": {},
     "output_type": "display_data"
    },
    {
     "data": {
      "text/html": [
       "<pre style=\"white-space:pre;overflow-x:auto;line-height:normal;font-family:Menlo,'DejaVu Sans Mono',consolas,'Courier New',monospace\"><span style=\"font-weight: bold\"> Total params: </span><span style=\"color: #00af00; text-decoration-color: #00af00\">66,307,172</span> (252.94 MB)\n",
       "</pre>\n"
      ],
      "text/plain": [
       "\u001b[1m Total params: \u001b[0m\u001b[38;5;34m66,307,172\u001b[0m (252.94 MB)\n"
      ]
     },
     "metadata": {},
     "output_type": "display_data"
    },
    {
     "data": {
      "text/html": [
       "<pre style=\"white-space:pre;overflow-x:auto;line-height:normal;font-family:Menlo,'DejaVu Sans Mono',consolas,'Courier New',monospace\"><span style=\"font-weight: bold\"> Trainable params: </span><span style=\"color: #00af00; text-decoration-color: #00af00\">66,307,172</span> (252.94 MB)\n",
       "</pre>\n"
      ],
      "text/plain": [
       "\u001b[1m Trainable params: \u001b[0m\u001b[38;5;34m66,307,172\u001b[0m (252.94 MB)\n"
      ]
     },
     "metadata": {},
     "output_type": "display_data"
    },
    {
     "data": {
      "text/html": [
       "<pre style=\"white-space:pre;overflow-x:auto;line-height:normal;font-family:Menlo,'DejaVu Sans Mono',consolas,'Courier New',monospace\"><span style=\"font-weight: bold\"> Non-trainable params: </span><span style=\"color: #00af00; text-decoration-color: #00af00\">0</span> (0.00 B)\n",
       "</pre>\n"
      ],
      "text/plain": [
       "\u001b[1m Non-trainable params: \u001b[0m\u001b[38;5;34m0\u001b[0m (0.00 B)\n"
      ]
     },
     "metadata": {},
     "output_type": "display_data"
    }
   ],
   "source": [
    "# from tensorflow.keras.models import load_model\n",
    "\n",
    "# # Charge le modèle entraîné\n",
    "model = save_model('best_seq2seq_model.h6', compile=False)\n",
    "model.summary()\n"
   ]
  },
  {
   "cell_type": "markdown",
   "id": "f2853f4a",
   "metadata": {},
   "source": [
    "### Création des modèles d'inférences (encoder et décoder)\n",
    "(pour générer le texte par utilisation des poid du modèle précédement entrainné)"
   ]
  },
  {
   "cell_type": "markdown",
   "id": "c9821d6c",
   "metadata": {},
   "source": [
    "#### Modèle encodeur d’inférence"
   ]
  },
  {
   "cell_type": "code",
   "execution_count": null,
   "id": "d55d5b96",
   "metadata": {},
   "outputs": [],
   "source": [
    "from tensorflow.keras.models import Model\n",
    "\n",
    "# On suppose que le modèle complet a bien été chargé\n",
    "# model = load_model(...)\n",
    "\n",
    "# Récupération des bonnes entrées et couches\n",
    "encoder_inputs = model.input[0]\n",
    "\n",
    "# Tu récupères directement les sorties de la couche LSTM\n",
    "encoder_outputs, state_h_enc, state_c_enc = model.get_layer('lstm_8').output\n",
    "encoder_model = Model(encoder_inputs, [encoder_outputs, state_h_enc, state_c_enc])\n"
   ]
  },
  {
   "cell_type": "markdown",
   "id": "cbb42abd",
   "metadata": {},
   "source": [
    "#### Modèle décodeur d’inférence avec attention"
   ]
  },
  {
   "cell_type": "code",
   "execution_count": null,
   "id": "c1e5919e",
   "metadata": {},
   "outputs": [],
   "source": [
    "from tensorflow.keras.layers import Input, Concatenate\n",
    "\n",
    "latent_dim = 256  # ou extrais-le du modèle\n",
    "decoder_inputs_single = Input(shape=(1,), name=\"decoder_input_infer\")\n",
    "decoder_state_input_h = Input(shape=(latent_dim,), name=\"input_h\")\n",
    "decoder_state_input_c = Input(shape=(latent_dim,), name=\"input_c\")\n",
    "decoder_hidden_state_input = Input(shape=(None, latent_dim), name=\"encoder_outputs\")\n",
    "\n",
    "# Récupération des bonnes couches\n",
    "decoder_embedding_layer = model.get_layer('embedding_9')  # vérifie le nom exact\n",
    "decoder_lstm_layer = model.get_layer('lstm_9')\n",
    "attention_layer = model.get_layer('attention_4')\n",
    "dense_layer = model.get_layer('dense_4')\n",
    "\n",
    "# Embedding\n",
    "decoder_embedding = decoder_embedding_layer(decoder_inputs_single)\n",
    "\n",
    "# LSTM\n",
    "decoder_outputs, state_h, state_c = decoder_lstm_layer(\n",
    "    decoder_embedding, initial_state=[decoder_state_input_h, decoder_state_input_c]\n",
    ")\n",
    "\n",
    "# Attention\n",
    "attention_out = attention_layer([decoder_outputs, decoder_hidden_state_input])\n",
    "decoder_combined_context = Concatenate(axis=-1)([decoder_outputs, attention_out])\n",
    "\n",
    "# Projection finale\n",
    "decoder_outputs = dense_layer(decoder_combined_context)\n",
    "\n",
    "# Modèle d'inférence du décodeur\n",
    "decoder_model = Model(\n",
    "    [decoder_inputs_single, decoder_hidden_state_input, decoder_state_input_h, decoder_state_input_c],\n",
    "    [decoder_outputs, state_h, state_c]\n",
    ")\n"
   ]
  },
  {
   "cell_type": "code",
   "execution_count": null,
   "id": "8b8e29c8",
   "metadata": {},
   "outputs": [],
   "source": [
    "# ## Modèle d'inférence pour encoder = utiliser le même que pour entrainnement\n",
    "# # Encoder d'inférence (on donne une séquence source et on récupère les états)\n",
    "# encoder_model = Model(encoder_inputs, encoder_states)\n",
    "\n",
    "# # Entrées du décodeur\n",
    "# decoder_state_input_h = Input(shape=(latent_dim,))\n",
    "# decoder_state_input_c = Input(shape=(latent_dim,))\n",
    "# decoder_hidden_state_input = Input(shape=(max_seq_len, latent_dim))  # encoder_outputs\n",
    "\n",
    "# decoder_states_inputs = [decoder_state_input_h, decoder_state_input_c]\n",
    "\n",
    "# decoder_inputs_single = Input(shape=(1,))\n",
    "# decoder_embedding_inf = decoder_embedding_layer(decoder_inputs_single)\n",
    "\n",
    "# decoder_lstm_outputs, state_h_inf, state_c_inf = decoder_lstm(\n",
    "#     decoder_embedding_inf, initial_state=decoder_states_inputs\n",
    "# )\n",
    "\n",
    "# # Appliquer l'attention\n",
    "# attention_inf = attention_layer([decoder_lstm_outputs, decoder_hidden_state_input])\n",
    "# decoder_combined_context = Concatenate(axis=-1)([decoder_lstm_outputs, attention_inf])\n",
    "\n",
    "# # Projection finale\n",
    "# decoder_outputs = decoder_dense(decoder_combined_context)\n",
    "\n",
    "# # Modèle d'inférence du décodeur complet\n",
    "# decoder_model = Model(\n",
    "#     [decoder_inputs_single, decoder_hidden_state_input] + decoder_states_inputs,\n",
    "#     [decoder_outputs, state_h_inf, state_c_inf]\n",
    "# )\n",
    "\n"
   ]
  },
  {
   "cell_type": "markdown",
   "id": "21301292",
   "metadata": {},
   "source": [
    "### Fonction de génération de texte (green decoding)"
   ]
  },
  {
   "cell_type": "code",
   "execution_count": null,
   "id": "4175fa81",
   "metadata": {},
   "outputs": [],
   "source": [
    "import numpy as np\n",
    "\n",
    "def decode_sequence(input_seq, tokenizer, reverse_index, max_decoder_seq_len, start_token='sos', end_token='eos'):\n",
    "    # Encode l'entrée\n",
    "    encoder_outputs, state_h, state_c = encoder_model.predict(input_seq)\n",
    "\n",
    "    target_seq = np.array([[tokenizer.word_index[start_token]]])\n",
    "    stop_condition = False\n",
    "    decoded_sentence = []\n",
    "\n",
    "    while not stop_condition and len(decoded_sentence) < max_decoder_seq_len:\n",
    "        output_tokens, h, c = decoder_model.predict(\n",
    "            [target_seq, encoder_outputs, state_h, state_c]\n",
    "        )\n",
    "\n",
    "        sampled_token_index = np.argmax(output_tokens[0, -1, :])\n",
    "        sampled_word = reverse_index.get(sampled_token_index, '')\n",
    "\n",
    "        if sampled_word == end_token or sampled_word == '':\n",
    "            stop_condition = True\n",
    "        else:\n",
    "            decoded_sentence.append(sampled_word)\n",
    "\n",
    "        target_seq = np.array([[sampled_token_index]])\n",
    "        state_h, state_c = h, c\n",
    "\n",
    "    return ' '.join(decoded_sentence)\n"
   ]
  },
  {
   "cell_type": "code",
   "execution_count": null,
   "id": "85137308",
   "metadata": {},
   "outputs": [],
   "source": [
    "# def decode_sequence(input_seq, tokenizer, max_target_len=50):\n",
    "#     # Encode la séquence d'entrée\n",
    "#     states_value = encoder_model.predict(input_seq)\n",
    "\n",
    "#     # Token de départ (index de <sos>)\n",
    "#     sos_index = tokenizer.word_index['sos']\n",
    "#     eos_index = tokenizer.word_index['eos']\n",
    "\n",
    "#     target_seq = np.array([[sos_index]])\n",
    "\n",
    "#     decoded_sentence = []\n",
    "    \n",
    "#     for _ in range(max_target_len):\n",
    "#         output_tokens, h, c = decoder_model.predict([target_seq] + states_value)\n",
    "\n",
    "#         # Choisir le token avec la plus grande probabilité\n",
    "#         sampled_token_index = np.argmax(output_tokens[0, -1, :])\n",
    "#         sampled_word = tokenizer.index_word.get(sampled_token_index, \"<unk>\")\n",
    "\n",
    "#         if sampled_word == 'eos':\n",
    "#             break\n",
    "\n",
    "#         decoded_sentence.append(sampled_word)\n",
    "\n",
    "#         # Le token généré devient la prochaine entrée du décodeur\n",
    "#         target_seq = np.array([[sampled_token_index]])\n",
    "#         states_value = [h, c]\n",
    "\n",
    "#     return ' '.join(decoded_sentence)\n"
   ]
  },
  {
   "cell_type": "markdown",
   "id": "7637cedf",
   "metadata": {},
   "source": [
    "### Test d'utilisation"
   ]
  },
  {
   "cell_type": "markdown",
   "id": "2e233b8a",
   "metadata": {},
   "source": [
    "Faire attention a ce putain de troncage qui supprimer les eos avant l'entrainnement"
   ]
  },
  {
   "cell_type": "code",
   "execution_count": null,
   "id": "4b9e7705",
   "metadata": {},
   "outputs": [
    {
     "name": "stdout",
     "output_type": "stream",
     "text": [
      "an interview hopefully none of you will be reading about it radcliffe's earnings from the first five potter films have been held in a trust fund which he has not been able to touch despite his growing fame and riches the actor says he is keeping his feet firmly on the ground people are always looking to say 'kid star goes off the rails ' he told reporters last month but i try very hard not to go that way because it would be too easy for them his latest outing as the boy wizard in harry potter and the order of the phoenix is breaking records on both sides of the atlantic and he will reprise the role in the last two films watch i reporter give her review of potter's latest » there is life beyond potter however the londoner has filmed a tv movie called my boy jack about author rudyard kipling and his son due for release later this year he will also appear in december boys an australian film about four boys who escape an orphanage earlier this year he made his stage debut playing a tortured teenager in peter shaffer's equus meanwhile he is braced for even closer media scrutiny now that he's legally an adult i just think i'm going to be more sort of fair game he told reuters e mail to a friend copyright 2007 reuters all rights reserved this material may not be published broadcast rewritten or redistributed eos\n",
      "[[    29    760   4070   2209      6     54     41     24   1912     52\n",
      "      17 100512   6444     21      2     72    182   6133   2507     22\n",
      "      38    424      7      4   1145   1749     48     13     23     34\n",
      "      38    328      3   1801    340     16   1047   3209      5  15626\n",
      "       2   1569     93     13     12   1784     16    949   6987     10\n",
      "       2    624     59     27    352    393      3    132 105486    384\n",
      "    1118    106      2  16607     37     13     73   1402     65    203\n",
      "      26     31    613    125    492     34      3    157     11    138\n",
      "      97     17     57     24    240   1461      9     77     16    721\n",
      "   10516     19      2    614  16112      7   1494   6133      5      2\n",
      "     603      6      2   4892     12   1843   1350     10    187   2021\n",
      "       6      2   3143      5     13     41  35164      2    657      7\n",
      "       2     65     58   2507    524     31   1011    378     25   1526\n",
      "       6  31135    721   2346     64     12    126   1625   6133    275\n",
      "       2  21822     23   2463      4    583   1306    173     83    614\n",
      "    1822     52   1966  44111  33428      5     16    296    507      9\n",
      "     851    193     35     46     13     41     56   1149      7    513\n",
      "    1232     29   1008    591     52    145   1232     33   1949     29\n",
      "   12620    343     35     46     13    107     16    960   2424    646\n",
      "       4   6686   1670      7   1255  94230 111204   1267     13     12\n",
      "   19576      9    131   2398    390   5530     82     11    584   4496\n",
      "      29   2280     31     70    165    408    149      3     24     51\n",
      "    1925      6   1815    255     13     73   6588    953    571      3\n",
      "       4    504   6394   1034   6588     60    522   4720     35   2104\n",
      "     120     34     24    257   2992  24441     53  30758     43]]\n"
     ]
    },
    {
     "ename": "ValueError",
     "evalue": "Input 0 of layer \"functional_1\" is incompatible with the layer: expected shape=(None, 500), found shape=(1, 249)",
     "output_type": "error",
     "traceback": [
      "\u001b[31m---------------------------------------------------------------------------\u001b[39m",
      "\u001b[31mValueError\u001b[39m                                Traceback (most recent call last)",
      "\u001b[36mCell\u001b[39m\u001b[36m \u001b[39m\u001b[32mIn[20]\u001b[39m\u001b[32m, line 11\u001b[39m\n\u001b[32m      8\u001b[39m \u001b[38;5;28mprint\u001b[39m(decoded_input)\n\u001b[32m     10\u001b[39m \u001b[38;5;28mprint\u001b[39m(input_seq)  \u001b[38;5;66;03m# Doit être shape (1, seq_len)\u001b[39;00m\n\u001b[32m---> \u001b[39m\u001b[32m11\u001b[39m generated_summary = \u001b[43mdecode_sequence\u001b[49m\u001b[43m(\u001b[49m\u001b[43minput_seq\u001b[49m\u001b[43m,\u001b[49m\u001b[43m \u001b[49m\u001b[43mtokenizer\u001b[49m\u001b[43m,\u001b[49m\u001b[43mtokenizer\u001b[49m\u001b[43m.\u001b[49m\u001b[43mindex_word\u001b[49m\u001b[43m,\u001b[49m\u001b[32;43m100\u001b[39;49m\u001b[43m)\u001b[49m\n\u001b[32m     13\u001b[39m \u001b[38;5;28mprint\u001b[39m(\u001b[33m\"\u001b[39m\u001b[33mRésumé généré :\u001b[39m\u001b[33m\"\u001b[39m)\n\u001b[32m     14\u001b[39m \u001b[38;5;28mprint\u001b[39m(generated_summary)\n",
      "\u001b[36mCell\u001b[39m\u001b[36m \u001b[39m\u001b[32mIn[17]\u001b[39m\u001b[32m, line 5\u001b[39m, in \u001b[36mdecode_sequence\u001b[39m\u001b[34m(input_seq, tokenizer, reverse_index, max_decoder_seq_len, start_token, end_token)\u001b[39m\n\u001b[32m      3\u001b[39m \u001b[38;5;28;01mdef\u001b[39;00m\u001b[38;5;250m \u001b[39m\u001b[34mdecode_sequence\u001b[39m(input_seq, tokenizer, reverse_index, max_decoder_seq_len, start_token=\u001b[33m'\u001b[39m\u001b[33msos\u001b[39m\u001b[33m'\u001b[39m, end_token=\u001b[33m'\u001b[39m\u001b[33meos\u001b[39m\u001b[33m'\u001b[39m):\n\u001b[32m      4\u001b[39m     \u001b[38;5;66;03m# Encode l'entrée\u001b[39;00m\n\u001b[32m----> \u001b[39m\u001b[32m5\u001b[39m     encoder_outputs, state_h, state_c = \u001b[43mencoder_model\u001b[49m\u001b[43m.\u001b[49m\u001b[43mpredict\u001b[49m\u001b[43m(\u001b[49m\u001b[43minput_seq\u001b[49m\u001b[43m)\u001b[49m\n\u001b[32m      7\u001b[39m     target_seq = np.array([[tokenizer.word_index[start_token]]])\n\u001b[32m      8\u001b[39m     stop_condition = \u001b[38;5;28;01mFalse\u001b[39;00m\n",
      "\u001b[36mFile \u001b[39m\u001b[32mc:\\Users\\USER\\AppData\\Local\\Programs\\Python\\Python312\\Lib\\site-packages\\keras\\src\\utils\\traceback_utils.py:122\u001b[39m, in \u001b[36mfilter_traceback.<locals>.error_handler\u001b[39m\u001b[34m(*args, **kwargs)\u001b[39m\n\u001b[32m    119\u001b[39m     filtered_tb = _process_traceback_frames(e.__traceback__)\n\u001b[32m    120\u001b[39m     \u001b[38;5;66;03m# To get the full stack trace, call:\u001b[39;00m\n\u001b[32m    121\u001b[39m     \u001b[38;5;66;03m# `keras.config.disable_traceback_filtering()`\u001b[39;00m\n\u001b[32m--> \u001b[39m\u001b[32m122\u001b[39m     \u001b[38;5;28;01mraise\u001b[39;00m e.with_traceback(filtered_tb) \u001b[38;5;28;01mfrom\u001b[39;00m\u001b[38;5;250m \u001b[39m\u001b[38;5;28;01mNone\u001b[39;00m\n\u001b[32m    123\u001b[39m \u001b[38;5;28;01mfinally\u001b[39;00m:\n\u001b[32m    124\u001b[39m     \u001b[38;5;28;01mdel\u001b[39;00m filtered_tb\n",
      "\u001b[36mFile \u001b[39m\u001b[32mc:\\Users\\USER\\AppData\\Local\\Programs\\Python\\Python312\\Lib\\site-packages\\keras\\src\\layers\\input_spec.py:245\u001b[39m, in \u001b[36massert_input_compatibility\u001b[39m\u001b[34m(input_spec, inputs, layer_name)\u001b[39m\n\u001b[32m    243\u001b[39m \u001b[38;5;28;01mif\u001b[39;00m spec_dim \u001b[38;5;129;01mis\u001b[39;00m \u001b[38;5;129;01mnot\u001b[39;00m \u001b[38;5;28;01mNone\u001b[39;00m \u001b[38;5;129;01mand\u001b[39;00m dim \u001b[38;5;129;01mis\u001b[39;00m \u001b[38;5;129;01mnot\u001b[39;00m \u001b[38;5;28;01mNone\u001b[39;00m:\n\u001b[32m    244\u001b[39m     \u001b[38;5;28;01mif\u001b[39;00m spec_dim != dim:\n\u001b[32m--> \u001b[39m\u001b[32m245\u001b[39m         \u001b[38;5;28;01mraise\u001b[39;00m \u001b[38;5;167;01mValueError\u001b[39;00m(\n\u001b[32m    246\u001b[39m             \u001b[33mf\u001b[39m\u001b[33m'\u001b[39m\u001b[33mInput \u001b[39m\u001b[38;5;132;01m{\u001b[39;00minput_index\u001b[38;5;132;01m}\u001b[39;00m\u001b[33m of layer \u001b[39m\u001b[33m\"\u001b[39m\u001b[38;5;132;01m{\u001b[39;00mlayer_name\u001b[38;5;132;01m}\u001b[39;00m\u001b[33m\"\u001b[39m\u001b[33m is \u001b[39m\u001b[33m'\u001b[39m\n\u001b[32m    247\u001b[39m             \u001b[33m\"\u001b[39m\u001b[33mincompatible with the layer: \u001b[39m\u001b[33m\"\u001b[39m\n\u001b[32m    248\u001b[39m             \u001b[33mf\u001b[39m\u001b[33m\"\u001b[39m\u001b[33mexpected shape=\u001b[39m\u001b[38;5;132;01m{\u001b[39;00mspec.shape\u001b[38;5;132;01m}\u001b[39;00m\u001b[33m, \u001b[39m\u001b[33m\"\u001b[39m\n\u001b[32m    249\u001b[39m             \u001b[33mf\u001b[39m\u001b[33m\"\u001b[39m\u001b[33mfound shape=\u001b[39m\u001b[38;5;132;01m{\u001b[39;00mshape\u001b[38;5;132;01m}\u001b[39;00m\u001b[33m\"\u001b[39m\n\u001b[32m    250\u001b[39m         )\n",
      "\u001b[31mValueError\u001b[39m: Input 0 of layer \"functional_1\" is incompatible with the layer: expected shape=(None, 500), found shape=(1, 249)"
     ]
    }
   ],
   "source": [
    "# Suppose que tu veux générer à partir de la première séquence x_test\n",
    "input_seq = x_train_padded[0:1]\n",
    "\n",
    "token_ids = input_seq[0]  # shape (seq_len,)\n",
    "# Étape 2 : Reconvertir vers les mots\n",
    "reverse_index = tokenizer.index_word  # {index: word}\n",
    "decoded_input = ' '.join([reverse_index.get(idx, '') for idx in token_ids if idx != 0])\n",
    "print(decoded_input)\n",
    "\n",
    "print(input_seq)  # Doit être shape (1, seq_len)\n",
    "generated_summary = decode_sequence(input_seq, tokenizer,tokenizer.index_word,100)\n",
    "\n",
    "print(\"Résumé généré :\")\n",
    "print(generated_summary)"
   ]
  },
  {
   "cell_type": "markdown",
   "id": "48834d10",
   "metadata": {},
   "source": [
    "## Tentative foirée"
   ]
  },
  {
   "cell_type": "markdown",
   "id": "a71cefa2",
   "metadata": {},
   "source": [
    "Explication choix de la structure :\n",
    "- Tokenisation "
   ]
  },
  {
   "cell_type": "code",
   "execution_count": null,
   "id": "b1feda42",
   "metadata": {},
   "outputs": [
    {
     "name": "stdout",
     "output_type": "stream",
     "text": [
      "None\n",
      "None\n",
      "1\n",
      "None\n",
      "Epoch 1/5\n"
     ]
    },
    {
     "ename": "KeyboardInterrupt",
     "evalue": "",
     "output_type": "error",
     "traceback": [
      "\u001b[1;31m---------------------------------------------------------------------------\u001b[0m",
      "\u001b[1;31mKeyboardInterrupt\u001b[0m                         Traceback (most recent call last)",
      "Cell \u001b[1;32mIn[31], line 93\u001b[0m\n\u001b[0;32m     88\u001b[0m decoder_model \u001b[38;5;241m=\u001b[39m Model(\n\u001b[0;32m     89\u001b[0m     [decoder_single_input, decoder_state_input_h, decoder_state_input_c],\n\u001b[0;32m     90\u001b[0m     [dec_out2, state_h2, state_c2]\n\u001b[0;32m     91\u001b[0m )\n\u001b[0;32m     92\u001b[0m \u001b[38;5;66;03m# --- 7. Entraînement du modèle ---\u001b[39;00m\n\u001b[1;32m---> 93\u001b[0m \u001b[43mmodel\u001b[49m\u001b[38;5;241;43m.\u001b[39;49m\u001b[43mfit\u001b[49m\u001b[43m(\u001b[49m\n\u001b[0;32m     94\u001b[0m \u001b[43m    \u001b[49m\u001b[43m[\u001b[49m\u001b[43mencoder_input\u001b[49m\u001b[43m,\u001b[49m\u001b[43m \u001b[49m\u001b[43mdecoder_input\u001b[49m\u001b[43m]\u001b[49m\u001b[43m,\u001b[49m\n\u001b[0;32m     95\u001b[0m \u001b[43m    \u001b[49m\u001b[43mnp\u001b[49m\u001b[38;5;241;43m.\u001b[39;49m\u001b[43mexpand_dims\u001b[49m\u001b[43m(\u001b[49m\u001b[43mdecoder_target\u001b[49m\u001b[43m,\u001b[49m\u001b[43m \u001b[49m\u001b[38;5;241;43m-\u001b[39;49m\u001b[38;5;241;43m1\u001b[39;49m\u001b[43m)\u001b[49m\u001b[43m,\u001b[49m\n\u001b[0;32m     96\u001b[0m \u001b[43m    \u001b[49m\u001b[43mbatch_size\u001b[49m\u001b[38;5;241;43m=\u001b[39;49m\u001b[38;5;241;43m64\u001b[39;49m\u001b[43m,\u001b[49m\n\u001b[0;32m     97\u001b[0m \u001b[43m    \u001b[49m\u001b[43mepochs\u001b[49m\u001b[38;5;241;43m=\u001b[39;49m\u001b[38;5;241;43m5\u001b[39;49m\u001b[43m,\u001b[49m\n\u001b[0;32m     98\u001b[0m \u001b[43m    \u001b[49m\u001b[43mvalidation_split\u001b[49m\u001b[38;5;241;43m=\u001b[39;49m\u001b[38;5;241;43m0.1\u001b[39;49m\n\u001b[0;32m     99\u001b[0m \u001b[43m)\u001b[49m\n\u001b[0;32m    101\u001b[0m \u001b[38;5;66;03m# --- 8. Fonction d'inférence (génération autonome) ---\u001b[39;00m\n\u001b[0;32m    102\u001b[0m \u001b[38;5;28;01mdef\u001b[39;00m \u001b[38;5;21mdecode_sequence\u001b[39m(input_seq, max_len\u001b[38;5;241m=\u001b[39mmax_len_y):\n",
      "File \u001b[1;32mc:\\Users\\conda\\venv\\Lib\\site-packages\\keras\\src\\utils\\traceback_utils.py:117\u001b[0m, in \u001b[0;36mfilter_traceback.<locals>.error_handler\u001b[1;34m(*args, **kwargs)\u001b[0m\n\u001b[0;32m    115\u001b[0m filtered_tb \u001b[38;5;241m=\u001b[39m \u001b[38;5;28;01mNone\u001b[39;00m\n\u001b[0;32m    116\u001b[0m \u001b[38;5;28;01mtry\u001b[39;00m:\n\u001b[1;32m--> 117\u001b[0m     \u001b[38;5;28;01mreturn\u001b[39;00m \u001b[43mfn\u001b[49m\u001b[43m(\u001b[49m\u001b[38;5;241;43m*\u001b[39;49m\u001b[43margs\u001b[49m\u001b[43m,\u001b[49m\u001b[43m \u001b[49m\u001b[38;5;241;43m*\u001b[39;49m\u001b[38;5;241;43m*\u001b[39;49m\u001b[43mkwargs\u001b[49m\u001b[43m)\u001b[49m\n\u001b[0;32m    118\u001b[0m \u001b[38;5;28;01mexcept\u001b[39;00m \u001b[38;5;167;01mException\u001b[39;00m \u001b[38;5;28;01mas\u001b[39;00m e:\n\u001b[0;32m    119\u001b[0m     filtered_tb \u001b[38;5;241m=\u001b[39m _process_traceback_frames(e\u001b[38;5;241m.\u001b[39m__traceback__)\n",
      "File \u001b[1;32mc:\\Users\\conda\\venv\\Lib\\site-packages\\keras\\src\\backend\\tensorflow\\trainer.py:368\u001b[0m, in \u001b[0;36mTensorFlowTrainer.fit\u001b[1;34m(self, x, y, batch_size, epochs, verbose, callbacks, validation_split, validation_data, shuffle, class_weight, sample_weight, initial_epoch, steps_per_epoch, validation_steps, validation_batch_size, validation_freq)\u001b[0m\n\u001b[0;32m    366\u001b[0m \u001b[38;5;28;01mfor\u001b[39;00m step, iterator \u001b[38;5;129;01min\u001b[39;00m epoch_iterator:\n\u001b[0;32m    367\u001b[0m     callbacks\u001b[38;5;241m.\u001b[39mon_train_batch_begin(step)\n\u001b[1;32m--> 368\u001b[0m     logs \u001b[38;5;241m=\u001b[39m \u001b[38;5;28;43mself\u001b[39;49m\u001b[38;5;241;43m.\u001b[39;49m\u001b[43mtrain_function\u001b[49m\u001b[43m(\u001b[49m\u001b[43miterator\u001b[49m\u001b[43m)\u001b[49m\n\u001b[0;32m    369\u001b[0m     callbacks\u001b[38;5;241m.\u001b[39mon_train_batch_end(step, logs)\n\u001b[0;32m    370\u001b[0m     \u001b[38;5;28;01mif\u001b[39;00m \u001b[38;5;28mself\u001b[39m\u001b[38;5;241m.\u001b[39mstop_training:\n",
      "File \u001b[1;32mc:\\Users\\conda\\venv\\Lib\\site-packages\\keras\\src\\backend\\tensorflow\\trainer.py:216\u001b[0m, in \u001b[0;36mTensorFlowTrainer._make_function.<locals>.function\u001b[1;34m(iterator)\u001b[0m\n\u001b[0;32m    212\u001b[0m \u001b[38;5;28;01mdef\u001b[39;00m \u001b[38;5;21mfunction\u001b[39m(iterator):\n\u001b[0;32m    213\u001b[0m     \u001b[38;5;28;01mif\u001b[39;00m \u001b[38;5;28misinstance\u001b[39m(\n\u001b[0;32m    214\u001b[0m         iterator, (tf\u001b[38;5;241m.\u001b[39mdata\u001b[38;5;241m.\u001b[39mIterator, tf\u001b[38;5;241m.\u001b[39mdistribute\u001b[38;5;241m.\u001b[39mDistributedIterator)\n\u001b[0;32m    215\u001b[0m     ):\n\u001b[1;32m--> 216\u001b[0m         opt_outputs \u001b[38;5;241m=\u001b[39m \u001b[43mmulti_step_on_iterator\u001b[49m\u001b[43m(\u001b[49m\u001b[43miterator\u001b[49m\u001b[43m)\u001b[49m\n\u001b[0;32m    217\u001b[0m         \u001b[38;5;28;01mif\u001b[39;00m \u001b[38;5;129;01mnot\u001b[39;00m opt_outputs\u001b[38;5;241m.\u001b[39mhas_value():\n\u001b[0;32m    218\u001b[0m             \u001b[38;5;28;01mraise\u001b[39;00m \u001b[38;5;167;01mStopIteration\u001b[39;00m\n",
      "File \u001b[1;32mc:\\Users\\conda\\venv\\Lib\\site-packages\\tensorflow\\python\\util\\traceback_utils.py:150\u001b[0m, in \u001b[0;36mfilter_traceback.<locals>.error_handler\u001b[1;34m(*args, **kwargs)\u001b[0m\n\u001b[0;32m    148\u001b[0m filtered_tb \u001b[38;5;241m=\u001b[39m \u001b[38;5;28;01mNone\u001b[39;00m\n\u001b[0;32m    149\u001b[0m \u001b[38;5;28;01mtry\u001b[39;00m:\n\u001b[1;32m--> 150\u001b[0m   \u001b[38;5;28;01mreturn\u001b[39;00m \u001b[43mfn\u001b[49m\u001b[43m(\u001b[49m\u001b[38;5;241;43m*\u001b[39;49m\u001b[43margs\u001b[49m\u001b[43m,\u001b[49m\u001b[43m \u001b[49m\u001b[38;5;241;43m*\u001b[39;49m\u001b[38;5;241;43m*\u001b[39;49m\u001b[43mkwargs\u001b[49m\u001b[43m)\u001b[49m\n\u001b[0;32m    151\u001b[0m \u001b[38;5;28;01mexcept\u001b[39;00m \u001b[38;5;167;01mException\u001b[39;00m \u001b[38;5;28;01mas\u001b[39;00m e:\n\u001b[0;32m    152\u001b[0m   filtered_tb \u001b[38;5;241m=\u001b[39m _process_traceback_frames(e\u001b[38;5;241m.\u001b[39m__traceback__)\n",
      "File \u001b[1;32mc:\\Users\\conda\\venv\\Lib\\site-packages\\tensorflow\\python\\eager\\polymorphic_function\\polymorphic_function.py:833\u001b[0m, in \u001b[0;36mFunction.__call__\u001b[1;34m(self, *args, **kwds)\u001b[0m\n\u001b[0;32m    830\u001b[0m compiler \u001b[38;5;241m=\u001b[39m \u001b[38;5;124m\"\u001b[39m\u001b[38;5;124mxla\u001b[39m\u001b[38;5;124m\"\u001b[39m \u001b[38;5;28;01mif\u001b[39;00m \u001b[38;5;28mself\u001b[39m\u001b[38;5;241m.\u001b[39m_jit_compile \u001b[38;5;28;01melse\u001b[39;00m \u001b[38;5;124m\"\u001b[39m\u001b[38;5;124mnonXla\u001b[39m\u001b[38;5;124m\"\u001b[39m\n\u001b[0;32m    832\u001b[0m \u001b[38;5;28;01mwith\u001b[39;00m OptionalXlaContext(\u001b[38;5;28mself\u001b[39m\u001b[38;5;241m.\u001b[39m_jit_compile):\n\u001b[1;32m--> 833\u001b[0m   result \u001b[38;5;241m=\u001b[39m \u001b[38;5;28;43mself\u001b[39;49m\u001b[38;5;241;43m.\u001b[39;49m\u001b[43m_call\u001b[49m\u001b[43m(\u001b[49m\u001b[38;5;241;43m*\u001b[39;49m\u001b[43margs\u001b[49m\u001b[43m,\u001b[49m\u001b[43m \u001b[49m\u001b[38;5;241;43m*\u001b[39;49m\u001b[38;5;241;43m*\u001b[39;49m\u001b[43mkwds\u001b[49m\u001b[43m)\u001b[49m\n\u001b[0;32m    835\u001b[0m new_tracing_count \u001b[38;5;241m=\u001b[39m \u001b[38;5;28mself\u001b[39m\u001b[38;5;241m.\u001b[39mexperimental_get_tracing_count()\n\u001b[0;32m    836\u001b[0m without_tracing \u001b[38;5;241m=\u001b[39m (tracing_count \u001b[38;5;241m==\u001b[39m new_tracing_count)\n",
      "File \u001b[1;32mc:\\Users\\conda\\venv\\Lib\\site-packages\\tensorflow\\python\\eager\\polymorphic_function\\polymorphic_function.py:919\u001b[0m, in \u001b[0;36mFunction._call\u001b[1;34m(self, *args, **kwds)\u001b[0m\n\u001b[0;32m    913\u001b[0m   \u001b[38;5;66;03m# If we did not create any variables the trace we have is good enough.\u001b[39;00m\n\u001b[0;32m    914\u001b[0m   filtered_flat_args \u001b[38;5;241m=\u001b[39m (\n\u001b[0;32m    915\u001b[0m       \u001b[38;5;28mself\u001b[39m\u001b[38;5;241m.\u001b[39m_concrete_variable_creation_fn\u001b[38;5;241m.\u001b[39mfunction_type\u001b[38;5;241m.\u001b[39munpack_inputs(\n\u001b[0;32m    916\u001b[0m           bound_args\n\u001b[0;32m    917\u001b[0m       )\n\u001b[0;32m    918\u001b[0m   )\n\u001b[1;32m--> 919\u001b[0m   \u001b[38;5;28;01mreturn\u001b[39;00m \u001b[38;5;28;43mself\u001b[39;49m\u001b[38;5;241;43m.\u001b[39;49m\u001b[43m_concrete_variable_creation_fn\u001b[49m\u001b[38;5;241;43m.\u001b[39;49m\u001b[43m_call_flat\u001b[49m\u001b[43m(\u001b[49m\u001b[43m  \u001b[49m\u001b[38;5;66;43;03m# pylint: disable=protected-access\u001b[39;49;00m\n\u001b[0;32m    920\u001b[0m \u001b[43m      \u001b[49m\u001b[43mfiltered_flat_args\u001b[49m\u001b[43m,\u001b[49m\n\u001b[0;32m    921\u001b[0m \u001b[43m      \u001b[49m\u001b[38;5;28;43mself\u001b[39;49m\u001b[38;5;241;43m.\u001b[39;49m\u001b[43m_concrete_variable_creation_fn\u001b[49m\u001b[38;5;241;43m.\u001b[39;49m\u001b[43mcaptured_inputs\u001b[49m\u001b[43m,\u001b[49m\n\u001b[0;32m    922\u001b[0m \u001b[43m  \u001b[49m\u001b[43m)\u001b[49m\n\u001b[0;32m    924\u001b[0m \u001b[38;5;28;01mdef\u001b[39;00m \u001b[38;5;21mfn_with_cond\u001b[39m(inner_args, inner_kwds):\n\u001b[0;32m    925\u001b[0m \u001b[38;5;250m  \u001b[39m\u001b[38;5;124;03m\"\"\"Conditionally runs initialization if it's needed.\"\"\"\u001b[39;00m\n",
      "File \u001b[1;32mc:\\Users\\conda\\venv\\Lib\\site-packages\\tensorflow\\python\\eager\\polymorphic_function\\concrete_function.py:1322\u001b[0m, in \u001b[0;36mConcreteFunction._call_flat\u001b[1;34m(self, tensor_inputs, captured_inputs)\u001b[0m\n\u001b[0;32m   1318\u001b[0m possible_gradient_type \u001b[38;5;241m=\u001b[39m gradients_util\u001b[38;5;241m.\u001b[39mPossibleTapeGradientTypes(args)\n\u001b[0;32m   1319\u001b[0m \u001b[38;5;28;01mif\u001b[39;00m (possible_gradient_type \u001b[38;5;241m==\u001b[39m gradients_util\u001b[38;5;241m.\u001b[39mPOSSIBLE_GRADIENT_TYPES_NONE\n\u001b[0;32m   1320\u001b[0m     \u001b[38;5;129;01mand\u001b[39;00m executing_eagerly):\n\u001b[0;32m   1321\u001b[0m   \u001b[38;5;66;03m# No tape is watching; skip to running the function.\u001b[39;00m\n\u001b[1;32m-> 1322\u001b[0m   \u001b[38;5;28;01mreturn\u001b[39;00m \u001b[38;5;28;43mself\u001b[39;49m\u001b[38;5;241;43m.\u001b[39;49m\u001b[43m_inference_function\u001b[49m\u001b[38;5;241;43m.\u001b[39;49m\u001b[43mcall_preflattened\u001b[49m\u001b[43m(\u001b[49m\u001b[43margs\u001b[49m\u001b[43m)\u001b[49m\n\u001b[0;32m   1323\u001b[0m forward_backward \u001b[38;5;241m=\u001b[39m \u001b[38;5;28mself\u001b[39m\u001b[38;5;241m.\u001b[39m_select_forward_and_backward_functions(\n\u001b[0;32m   1324\u001b[0m     args,\n\u001b[0;32m   1325\u001b[0m     possible_gradient_type,\n\u001b[0;32m   1326\u001b[0m     executing_eagerly)\n\u001b[0;32m   1327\u001b[0m forward_function, args_with_tangents \u001b[38;5;241m=\u001b[39m forward_backward\u001b[38;5;241m.\u001b[39mforward()\n",
      "File \u001b[1;32mc:\\Users\\conda\\venv\\Lib\\site-packages\\tensorflow\\python\\eager\\polymorphic_function\\atomic_function.py:216\u001b[0m, in \u001b[0;36mAtomicFunction.call_preflattened\u001b[1;34m(self, args)\u001b[0m\n\u001b[0;32m    214\u001b[0m \u001b[38;5;28;01mdef\u001b[39;00m \u001b[38;5;21mcall_preflattened\u001b[39m(\u001b[38;5;28mself\u001b[39m, args: Sequence[core\u001b[38;5;241m.\u001b[39mTensor]) \u001b[38;5;241m-\u001b[39m\u001b[38;5;241m>\u001b[39m Any:\n\u001b[0;32m    215\u001b[0m \u001b[38;5;250m  \u001b[39m\u001b[38;5;124;03m\"\"\"Calls with flattened tensor inputs and returns the structured output.\"\"\"\u001b[39;00m\n\u001b[1;32m--> 216\u001b[0m   flat_outputs \u001b[38;5;241m=\u001b[39m \u001b[38;5;28;43mself\u001b[39;49m\u001b[38;5;241;43m.\u001b[39;49m\u001b[43mcall_flat\u001b[49m\u001b[43m(\u001b[49m\u001b[38;5;241;43m*\u001b[39;49m\u001b[43margs\u001b[49m\u001b[43m)\u001b[49m\n\u001b[0;32m    217\u001b[0m   \u001b[38;5;28;01mreturn\u001b[39;00m \u001b[38;5;28mself\u001b[39m\u001b[38;5;241m.\u001b[39mfunction_type\u001b[38;5;241m.\u001b[39mpack_output(flat_outputs)\n",
      "File \u001b[1;32mc:\\Users\\conda\\venv\\Lib\\site-packages\\tensorflow\\python\\eager\\polymorphic_function\\atomic_function.py:251\u001b[0m, in \u001b[0;36mAtomicFunction.call_flat\u001b[1;34m(self, *args)\u001b[0m\n\u001b[0;32m    249\u001b[0m \u001b[38;5;28;01mwith\u001b[39;00m record\u001b[38;5;241m.\u001b[39mstop_recording():\n\u001b[0;32m    250\u001b[0m   \u001b[38;5;28;01mif\u001b[39;00m \u001b[38;5;28mself\u001b[39m\u001b[38;5;241m.\u001b[39m_bound_context\u001b[38;5;241m.\u001b[39mexecuting_eagerly():\n\u001b[1;32m--> 251\u001b[0m     outputs \u001b[38;5;241m=\u001b[39m \u001b[38;5;28;43mself\u001b[39;49m\u001b[38;5;241;43m.\u001b[39;49m\u001b[43m_bound_context\u001b[49m\u001b[38;5;241;43m.\u001b[39;49m\u001b[43mcall_function\u001b[49m\u001b[43m(\u001b[49m\n\u001b[0;32m    252\u001b[0m \u001b[43m        \u001b[49m\u001b[38;5;28;43mself\u001b[39;49m\u001b[38;5;241;43m.\u001b[39;49m\u001b[43mname\u001b[49m\u001b[43m,\u001b[49m\n\u001b[0;32m    253\u001b[0m \u001b[43m        \u001b[49m\u001b[38;5;28;43mlist\u001b[39;49m\u001b[43m(\u001b[49m\u001b[43margs\u001b[49m\u001b[43m)\u001b[49m\u001b[43m,\u001b[49m\n\u001b[0;32m    254\u001b[0m \u001b[43m        \u001b[49m\u001b[38;5;28;43mlen\u001b[39;49m\u001b[43m(\u001b[49m\u001b[38;5;28;43mself\u001b[39;49m\u001b[38;5;241;43m.\u001b[39;49m\u001b[43mfunction_type\u001b[49m\u001b[38;5;241;43m.\u001b[39;49m\u001b[43mflat_outputs\u001b[49m\u001b[43m)\u001b[49m\u001b[43m,\u001b[49m\n\u001b[0;32m    255\u001b[0m \u001b[43m    \u001b[49m\u001b[43m)\u001b[49m\n\u001b[0;32m    256\u001b[0m   \u001b[38;5;28;01melse\u001b[39;00m:\n\u001b[0;32m    257\u001b[0m     outputs \u001b[38;5;241m=\u001b[39m make_call_op_in_graph(\n\u001b[0;32m    258\u001b[0m         \u001b[38;5;28mself\u001b[39m,\n\u001b[0;32m    259\u001b[0m         \u001b[38;5;28mlist\u001b[39m(args),\n\u001b[0;32m    260\u001b[0m         \u001b[38;5;28mself\u001b[39m\u001b[38;5;241m.\u001b[39m_bound_context\u001b[38;5;241m.\u001b[39mfunction_call_options\u001b[38;5;241m.\u001b[39mas_attrs(),\n\u001b[0;32m    261\u001b[0m     )\n",
      "File \u001b[1;32mc:\\Users\\conda\\venv\\Lib\\site-packages\\tensorflow\\python\\eager\\context.py:1688\u001b[0m, in \u001b[0;36mContext.call_function\u001b[1;34m(self, name, tensor_inputs, num_outputs)\u001b[0m\n\u001b[0;32m   1686\u001b[0m cancellation_context \u001b[38;5;241m=\u001b[39m cancellation\u001b[38;5;241m.\u001b[39mcontext()\n\u001b[0;32m   1687\u001b[0m \u001b[38;5;28;01mif\u001b[39;00m cancellation_context \u001b[38;5;129;01mis\u001b[39;00m \u001b[38;5;28;01mNone\u001b[39;00m:\n\u001b[1;32m-> 1688\u001b[0m   outputs \u001b[38;5;241m=\u001b[39m \u001b[43mexecute\u001b[49m\u001b[38;5;241;43m.\u001b[39;49m\u001b[43mexecute\u001b[49m\u001b[43m(\u001b[49m\n\u001b[0;32m   1689\u001b[0m \u001b[43m      \u001b[49m\u001b[43mname\u001b[49m\u001b[38;5;241;43m.\u001b[39;49m\u001b[43mdecode\u001b[49m\u001b[43m(\u001b[49m\u001b[38;5;124;43m\"\u001b[39;49m\u001b[38;5;124;43mutf-8\u001b[39;49m\u001b[38;5;124;43m\"\u001b[39;49m\u001b[43m)\u001b[49m\u001b[43m,\u001b[49m\n\u001b[0;32m   1690\u001b[0m \u001b[43m      \u001b[49m\u001b[43mnum_outputs\u001b[49m\u001b[38;5;241;43m=\u001b[39;49m\u001b[43mnum_outputs\u001b[49m\u001b[43m,\u001b[49m\n\u001b[0;32m   1691\u001b[0m \u001b[43m      \u001b[49m\u001b[43minputs\u001b[49m\u001b[38;5;241;43m=\u001b[39;49m\u001b[43mtensor_inputs\u001b[49m\u001b[43m,\u001b[49m\n\u001b[0;32m   1692\u001b[0m \u001b[43m      \u001b[49m\u001b[43mattrs\u001b[49m\u001b[38;5;241;43m=\u001b[39;49m\u001b[43mattrs\u001b[49m\u001b[43m,\u001b[49m\n\u001b[0;32m   1693\u001b[0m \u001b[43m      \u001b[49m\u001b[43mctx\u001b[49m\u001b[38;5;241;43m=\u001b[39;49m\u001b[38;5;28;43mself\u001b[39;49m\u001b[43m,\u001b[49m\n\u001b[0;32m   1694\u001b[0m \u001b[43m  \u001b[49m\u001b[43m)\u001b[49m\n\u001b[0;32m   1695\u001b[0m \u001b[38;5;28;01melse\u001b[39;00m:\n\u001b[0;32m   1696\u001b[0m   outputs \u001b[38;5;241m=\u001b[39m execute\u001b[38;5;241m.\u001b[39mexecute_with_cancellation(\n\u001b[0;32m   1697\u001b[0m       name\u001b[38;5;241m.\u001b[39mdecode(\u001b[38;5;124m\"\u001b[39m\u001b[38;5;124mutf-8\u001b[39m\u001b[38;5;124m\"\u001b[39m),\n\u001b[0;32m   1698\u001b[0m       num_outputs\u001b[38;5;241m=\u001b[39mnum_outputs,\n\u001b[1;32m   (...)\u001b[0m\n\u001b[0;32m   1702\u001b[0m       cancellation_manager\u001b[38;5;241m=\u001b[39mcancellation_context,\n\u001b[0;32m   1703\u001b[0m   )\n",
      "File \u001b[1;32mc:\\Users\\conda\\venv\\Lib\\site-packages\\tensorflow\\python\\eager\\execute.py:53\u001b[0m, in \u001b[0;36mquick_execute\u001b[1;34m(op_name, num_outputs, inputs, attrs, ctx, name)\u001b[0m\n\u001b[0;32m     51\u001b[0m \u001b[38;5;28;01mtry\u001b[39;00m:\n\u001b[0;32m     52\u001b[0m   ctx\u001b[38;5;241m.\u001b[39mensure_initialized()\n\u001b[1;32m---> 53\u001b[0m   tensors \u001b[38;5;241m=\u001b[39m \u001b[43mpywrap_tfe\u001b[49m\u001b[38;5;241;43m.\u001b[39;49m\u001b[43mTFE_Py_Execute\u001b[49m\u001b[43m(\u001b[49m\u001b[43mctx\u001b[49m\u001b[38;5;241;43m.\u001b[39;49m\u001b[43m_handle\u001b[49m\u001b[43m,\u001b[49m\u001b[43m \u001b[49m\u001b[43mdevice_name\u001b[49m\u001b[43m,\u001b[49m\u001b[43m \u001b[49m\u001b[43mop_name\u001b[49m\u001b[43m,\u001b[49m\n\u001b[0;32m     54\u001b[0m \u001b[43m                                      \u001b[49m\u001b[43minputs\u001b[49m\u001b[43m,\u001b[49m\u001b[43m \u001b[49m\u001b[43mattrs\u001b[49m\u001b[43m,\u001b[49m\u001b[43m \u001b[49m\u001b[43mnum_outputs\u001b[49m\u001b[43m)\u001b[49m\n\u001b[0;32m     55\u001b[0m \u001b[38;5;28;01mexcept\u001b[39;00m core\u001b[38;5;241m.\u001b[39m_NotOkStatusException \u001b[38;5;28;01mas\u001b[39;00m e:\n\u001b[0;32m     56\u001b[0m   \u001b[38;5;28;01mif\u001b[39;00m name \u001b[38;5;129;01mis\u001b[39;00m \u001b[38;5;129;01mnot\u001b[39;00m \u001b[38;5;28;01mNone\u001b[39;00m:\n",
      "\u001b[1;31mKeyboardInterrupt\u001b[0m: "
     ]
    }
   ],
   "source": [
    "# from tensorflow.keras.preprocessing.text import Tokenizer\n",
    "# from tensorflow.keras.preprocessing.sequence import pad_sequences\n",
    "# from tensorflow.keras.models import Model\n",
    "# from tensorflow.keras.layers import Input, Embedding, LSTM, Dense\n",
    "\n",
    "# # --- 1. Tokenisation \n",
    "# num_word_token = 15000\n",
    "# tokenizer = Tokenizer(num_words=num_word_token, oov_token=\"<unk>\")\n",
    "# tokenizer.fit_on_texts(mini_x_train + [\"<sos> \" + s + \" <eos>\" for s in mini_y_train])\n",
    "\n",
    "# encoder_input = tokenizer.texts_to_sequences(mini_x_train)\n",
    "# decoder_input = tokenizer.texts_to_sequences([\"<sos> \" + s for s in mini_y_train])\n",
    "# decoder_target = tokenizer.texts_to_sequences([s + \" <eos>\" for s in mini_y_train])\n",
    "\n",
    "# encoder_input_test = tokenizer.texts_to_sequences(mini_x_test)\n",
    "# decoder_input_test = tokenizer.texts_to_sequences([\"<sos> \" + s for s in mini_y_test])\n",
    "# decoder_target_test = tokenizer.texts_to_sequences([s + \" <eos>\" for s in mini_y_test])\n",
    "\n",
    "\n",
    "# print(tokenizer.word_index.get('<sos>'))\n",
    "# print(tokenizer.word_index.get('<eos>'))\n",
    "# print(tokenizer.word_index.get('<unk>'))\n",
    "# print(tokenizer.word_index.get('<pad>'))\n",
    "\n",
    "# # --- 2. Padding \n",
    "# max_len_x = max(len(s) for s in encoder_input)\n",
    "# max_len_y = max(len(s) for s in decoder_input)\n",
    "\n",
    "# encoder_input = pad_sequences(encoder_input, maxlen=max_len_x, padding='post')\n",
    "# decoder_input = pad_sequences(decoder_input, maxlen=max_len_y, padding='post')\n",
    "# decoder_target = pad_sequences(decoder_target, maxlen=max_len_y, padding='post')\n",
    "\n",
    "# encoder_input_test = pad_sequences(encoder_input_test, maxlen=max_len_x, padding='post')\n",
    "# decoder_input_test = pad_sequences(decoder_input_test, maxlen=max_len_y, padding='post')\n",
    "# decoder_target_test = pad_sequences(decoder_target_test, maxlen=max_len_y, padding='post')\n",
    "\n",
    "# # --- 3. Hyperparamètres ---\n",
    "# dim_embedding = 150\n",
    "# lstm_units = 256\n",
    "\n",
    "# # --- 4. Modèle d'entraînement (encodeur + décodeur) ---> teacher forcing\n",
    "\n",
    "# # Encodeur\n",
    "# enc_in = Input(shape=(max_len_x,), name='encoder_input')\n",
    "# enc_emb = Embedding(num_word_token, dim_embedding, name='encoder_embedding')(enc_in)\n",
    "# enc_out, state_h, state_c = LSTM(lstm_units, return_state=True, name='encoder_lstm')(enc_emb)\n",
    "\n",
    "# # Décodeur (entrée)\n",
    "# dec_in = Input(shape=(max_len_y,), name='decoder_input')\n",
    "# dec_emb = Embedding(num_word_token, dim_embedding, name='decoder_embedding')(dec_in)\n",
    "\n",
    "# # Décodeur LSTM avec initialisation des états par l'encodeur\n",
    "# dec_lstm, _, _ = LSTM(\n",
    "#     lstm_units, return_sequences=True, return_state=True, name='decoder_lstm')(\n",
    "#         dec_emb, initial_state=[state_h, state_c])\n",
    "\n",
    "# # Couche dense pour prédiction sur vocabulaire\n",
    "# dec_out = Dense(num_word_token, activation='softmax', name='decoder_dense')(dec_lstm)\n",
    "\n",
    "# # Modèle complet pour entraînement avec teacher forcing\n",
    "# model = Model([enc_in, dec_in], dec_out)\n",
    "# model.compile(optimizer=\"adam\", loss=\"sparse_categorical_crossentropy\", metrics=['accuracy'])\n",
    "\n",
    "# # --- 5. Modèle encodeur pour inférence ---> pour générer les états cachés\n",
    "\n",
    "# # Ce modèle prend la séquence source et retourne les états cachés\n",
    "# encoder_model = Model(enc_in, [state_h, state_c])\n",
    "\n",
    "# # --- 6. Modèle décodeur pour inférence ---\n",
    "\n",
    "# # Entrées pour un seul token + états cachés initiaux\n",
    "# decoder_state_input_h = Input(shape=(lstm_units,), name='decoder_state_input_h')\n",
    "# decoder_state_input_c = Input(shape=(lstm_units,), name='decoder_state_input_c')\n",
    "# decoder_single_input = Input(shape=(1,), name='decoder_single_input')  # un mot à la fois\n",
    "\n",
    "# # Embedding du token unique\n",
    "# dec_emb2 = Embedding(num_word_token, dim_embedding, name='decoder_embedding')(decoder_single_input)\n",
    "\n",
    "# # LSTM pour un pas de temps, initialisé avec les états précédents\n",
    "# dec_lstm2, state_h2, state_c2 = LSTM(\n",
    "#     lstm_units, return_sequences=True, return_state=True, name='decoder_lstm'\n",
    "# )(dec_emb2, initial_state=[decoder_state_input_h, decoder_state_input_c])\n",
    "\n",
    "# # Couche dense pour prédire le prochain mot\n",
    "# dec_out2 = Dense(num_word_token, activation='softmax', name='decoder_dense')(dec_lstm2)\n",
    "\n",
    "# # Modèle décodeur inférence\n",
    "# decoder_model = Model(\n",
    "#     [decoder_single_input, decoder_state_input_h, decoder_state_input_c],\n",
    "#     [dec_out2, state_h2, state_c2]\n",
    "# )\n",
    "# # --- 7. Entraînement du modèle ---\n",
    "# model.fit(\n",
    "#     [encoder_input, decoder_input],\n",
    "#     np.expand_dims(decoder_target, -1),\n",
    "#     batch_size=64,\n",
    "#     epochs=5,\n",
    "#     validation_split=0.1\n",
    "# )\n",
    "\n",
    "# # --- 8. Fonction d'inférence (génération autonome) ---\n",
    "# def decode_sequence(input_seq, max_len=max_len_y):\n",
    "#     states_value = encoder_model.predict(input_seq)\n",
    "#     sos_token_index = tokenizer.word_index.get('<sos>')\n",
    "#     if sos_token_index is None:\n",
    "#         raise ValueError(\"Le tokenizer doit contenir le token <sos>\")\n",
    "#     target_seq = np.array([[sos_token_index]])\n",
    "\n",
    "#     stop_condition = False\n",
    "#     decoded_sentence = []\n",
    "\n",
    "#     state_h, state_c = states_value\n",
    "\n",
    "#     for _ in range(max_len):\n",
    "#         output_tokens, h, c = decoder_model.predict([target_seq, state_h, state_c])\n",
    "#         sampled_token_index = np.argmax(output_tokens[0, -1, :])\n",
    "#         sampled_word = tokenizer.index_word.get(sampled_token_index, '<unk>')\n",
    "\n",
    "#         if sampled_word == '<eos>' or sampled_word == '<pad>':\n",
    "#             break\n",
    "\n",
    "#         decoded_sentence.append(sampled_word)\n",
    "#         target_seq = np.array([[sampled_token_index]])\n",
    "#         state_h, state_c = h, c\n",
    "\n",
    "#     return ' '.join(decoded_sentence)\n",
    "\n",
    "# # --- 8. Test de génération sur quelques exemples ---\n",
    "# for i in range(5):\n",
    "#     input_seq = encoder_input_test[i:i+1]\n",
    "#     print(f\"--- Exemple {i+1} ---\")\n",
    "#     print(\"Texte source :\", mini_x_test[i])\n",
    "#     print(\"Résumé attendu :\", mini_y_test[i])\n",
    "#     print(\"Résumé généré :\", decode_sequence(input_seq))\n",
    "#     print()"
   ]
  },
  {
   "cell_type": "code",
   "execution_count": null,
   "id": "c83ed0b7",
   "metadata": {},
   "outputs": [],
   "source": []
  },
  {
   "cell_type": "code",
   "execution_count": null,
   "id": "c9c3172d",
   "metadata": {},
   "outputs": [
    {
     "name": "stdout",
     "output_type": "stream",
     "text": [
      "Epoch 1/5\n",
      "\u001b[1m15/15\u001b[0m \u001b[32m━━━━━━━━━━━━━━━━━━━━\u001b[0m\u001b[37m\u001b[0m \u001b[1m198s\u001b[0m 12s/step - accuracy: 0.2957 - loss: 9.1615 - val_accuracy: 0.3739 - val_loss: 6.2785\n",
      "Epoch 2/5\n",
      "\u001b[1m15/15\u001b[0m \u001b[32m━━━━━━━━━━━━━━━━━━━━\u001b[0m\u001b[37m\u001b[0m \u001b[1m177s\u001b[0m 12s/step - accuracy: 0.3754 - loss: 5.7393 - val_accuracy: 0.3739 - val_loss: 5.4796\n",
      "Epoch 3/5\n",
      "\u001b[1m15/15\u001b[0m \u001b[32m━━━━━━━━━━━━━━━━━━━━\u001b[0m\u001b[37m\u001b[0m \u001b[1m173s\u001b[0m 12s/step - accuracy: 0.3774 - loss: 5.1840 - val_accuracy: 0.3739 - val_loss: 5.2785\n",
      "Epoch 4/5\n",
      "\u001b[1m15/15\u001b[0m \u001b[32m━━━━━━━━━━━━━━━━━━━━\u001b[0m\u001b[37m\u001b[0m \u001b[1m241s\u001b[0m 16s/step - accuracy: 0.3751 - loss: 4.9861 - val_accuracy: 0.3739 - val_loss: 5.1780\n",
      "Epoch 5/5\n",
      "\u001b[1m15/15\u001b[0m \u001b[32m━━━━━━━━━━━━━━━━━━━━\u001b[0m\u001b[37m\u001b[0m \u001b[1m239s\u001b[0m 16s/step - accuracy: 0.3756 - loss: 4.8529 - val_accuracy: 0.3739 - val_loss: 5.0360\n"
     ]
    },
    {
     "data": {
      "text/plain": [
       "<keras.src.callbacks.history.History at 0x1a714f15430>"
      ]
     },
     "execution_count": 11,
     "metadata": {},
     "output_type": "execute_result"
    }
   ],
   "source": [
    "# model.fit(\n",
    "#     [encoder_input, decoder_input],\n",
    "#     np.expand_dims(decoder_target, -1),\n",
    "#     batch_size=64,\n",
    "#     epochs=5,\n",
    "#     validation_split=0.1\n",
    "# )"
   ]
  },
  {
   "cell_type": "code",
   "execution_count": null,
   "id": "1e42d915",
   "metadata": {},
   "outputs": [
    {
     "name": "stdout",
     "output_type": "stream",
     "text": [
      "\u001b[1m4/4\u001b[0m \u001b[32m━━━━━━━━━━━━━━━━━━━━\u001b[0m\u001b[37m\u001b[0m \u001b[1m8s\u001b[0m 2s/step - accuracy: 0.4846 - loss: 3.9031\n"
     ]
    },
    {
     "name": "stderr",
     "output_type": "stream",
     "text": [
      "WARNING:absl:You are saving your model as an HDF5 file via `model.save()` or `keras.saving.save_model(model)`. This file format is considered legacy. We recommend using instead the native Keras format, e.g. `model.save('my_model.keras')` or `keras.saving.save_model(model, 'my_model.keras')`. \n"
     ]
    },
    {
     "name": "stdout",
     "output_type": "stream",
     "text": [
      "Metrics: 0.494242399930954\n",
      "Loss: 3.838369846343994\n"
     ]
    }
   ],
   "source": [
    "# #5. Prédiction et évaluation\n",
    "# loss, metrics = model.evaluate(\n",
    "#     [encoder_input_test, decoder_input_test],\n",
    "#     np.expand_dims(decoder_target_test, -1)\n",
    "# )\n",
    "# if metrics:\n",
    "#     print(\"Metrics:\", metrics)\n",
    "#     print(\"Loss:\", loss)\n",
    "\n",
    "# model.save(r\"Model/DL/mon_modele.h5\")\n",
    "\n"
   ]
  },
  {
   "cell_type": "code",
   "execution_count": null,
   "id": "6bc7ef9e",
   "metadata": {},
   "outputs": [
    {
     "name": "stdout",
     "output_type": "stream",
     "text": [
      "Texte encodé : [[   0    0    0 ...    0    0    0]\n",
      " [   5    0    0 ...    0    0    0]\n",
      " [1356    0    0 ...    0    0    0]\n",
      " ...\n",
      " [  50    0    0 ...    0    0    0]\n",
      " [   0    0    0 ...    0    0    0]\n",
      " [   0    0    0 ...    0    0    0]]\n"
     ]
    }
   ],
   "source": [
    "# texte = \"\"\"\n",
    "# Artificial intelligence is transforming the way we work and live. From smart assistants to automated medical diagnostics, AI technologies are becoming increasingly integrated into our daily lives. However, this rapid progress also raises important questions about privacy, job displacement, and the ethical use of data.\n",
    "# As AI continues to evolve, it is crucial for society to address these challenges and ensure that the benefits of AI are shared equitably. Policymakers, technologists, and the public must work together to create a framework that promotes innovation while safeguarding individual rights and societal values.\n",
    "# The future of AI holds great promise, but it is essential to navigate the complexities it brings. By fostering collaboration and open dialogue, we can harness the power of AI to improve our world while minimizing its risks.\n",
    "# \"\"\"\n",
    "\n",
    "\n",
    "# def encode_text(texte):\n",
    "#     inputs = tokenizer.texts_to_sequences(texte)\n",
    "#     inputs = pad_sequences(inputs, maxlen=max_len_x, padding='post')\n",
    "    \n",
    "#     return inputs\n",
    "\n",
    "# model.predict(encode_text(texte))\n",
    "\n",
    "\n",
    "    \n",
    "# # model.predict(texte)"
   ]
  }
 ],
 "metadata": {
  "kernelspec": {
   "display_name": "Python (GPUVenv)",
   "language": "python",
   "name": "gpuvenv"
  },
  "language_info": {
   "codemirror_mode": {
    "name": "ipython",
    "version": 3
   },
   "file_extension": ".py",
   "mimetype": "text/x-python",
   "name": "python",
   "nbconvert_exporter": "python",
   "pygments_lexer": "ipython3",
   "version": "3.10.0"
  }
 },
 "nbformat": 4,
 "nbformat_minor": 5
}
