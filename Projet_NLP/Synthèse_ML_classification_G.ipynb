{
 "cells": [
  {
   "cell_type": "markdown",
   "id": "6c9ae8c5",
   "metadata": {},
   "source": [
    "# Synthèse ML classification"
   ]
  },
  {
   "cell_type": "markdown",
   "id": "74bb065e",
   "metadata": {},
   "source": [
    "## Préparations des données"
   ]
  },
  {
   "cell_type": "code",
   "execution_count": 17,
   "id": "ee994a79",
   "metadata": {},
   "outputs": [
    {
     "name": "stdout",
     "output_type": "stream",
     "text": [
      "Taille du dataset d'entrainnement : 102080\n"
     ]
    }
   ],
   "source": [
    "import numpy as np\n",
    "import pandas as pd\n",
    "\n",
    "def import_data():\n",
    "    x_train = pd.read_csv(r\"Dataset\\AG_classif\\x_train.csv\",index_col=False)\n",
    "    y_train = pd.read_csv(r\"Dataset\\AG_classif\\y_train.csv\",index_col=False)\n",
    "    x_test = pd.read_csv(r\"Dataset\\AG_classif\\x_test.csv\",index_col=False)\n",
    "    y_test = pd.read_csv(r\"Dataset\\AG_classif\\y_test.csv\",index_col=False)\n",
    "\n",
    "    print(\"Taille du dataset d'entrainnement :\",x_train.shape[0])\n",
    "    return x_train,y_train,x_test,y_test\n",
    "\n",
    "x_train,y_train,x_test,y_test = import_data()\n",
    "\n",
    "x_train = x_train['0']\n",
    "y_train = y_train['Class Index']\n",
    "x_test = x_test['0']\n",
    "y_test = y_test['Class Index']\n"
   ]
  },
  {
   "cell_type": "markdown",
   "id": "4dfe1840",
   "metadata": {},
   "source": [
    "## Préparation des modèles"
   ]
  },
  {
   "cell_type": "markdown",
   "id": "91f91d04",
   "metadata": {},
   "source": [
    "### Modèle 1 (TF-IDF & MNB)"
   ]
  },
  {
   "cell_type": "code",
   "execution_count": 18,
   "id": "17a366b0",
   "metadata": {},
   "outputs": [
    {
     "name": "stdout",
     "output_type": "stream",
     "text": [
      "n_iterations: 9\n",
      "n_required_iterations: 9\n",
      "n_possible_iterations: 9\n",
      "min_resources_: 398\n",
      "max_resources_: 102080\n",
      "aggressive_elimination: False\n",
      "factor: 2\n",
      "----------\n",
      "iter: 0\n",
      "n_candidates: 384\n",
      "n_resources: 398\n",
      "Fitting 3 folds for each of 384 candidates, totalling 1152 fits\n",
      "----------\n",
      "iter: 1\n",
      "n_candidates: 192\n",
      "n_resources: 796\n",
      "Fitting 3 folds for each of 192 candidates, totalling 576 fits\n",
      "----------\n",
      "iter: 2\n",
      "n_candidates: 96\n",
      "n_resources: 1592\n",
      "Fitting 3 folds for each of 96 candidates, totalling 288 fits\n",
      "----------\n",
      "iter: 3\n",
      "n_candidates: 48\n",
      "n_resources: 3184\n",
      "Fitting 3 folds for each of 48 candidates, totalling 144 fits\n",
      "----------\n",
      "iter: 4\n",
      "n_candidates: 24\n",
      "n_resources: 6368\n",
      "Fitting 3 folds for each of 24 candidates, totalling 72 fits\n",
      "----------\n",
      "iter: 5\n",
      "n_candidates: 12\n",
      "n_resources: 12736\n",
      "Fitting 3 folds for each of 12 candidates, totalling 36 fits\n",
      "----------\n",
      "iter: 6\n",
      "n_candidates: 6\n",
      "n_resources: 25472\n",
      "Fitting 3 folds for each of 6 candidates, totalling 18 fits\n",
      "----------\n",
      "iter: 7\n",
      "n_candidates: 3\n",
      "n_resources: 50944\n",
      "Fitting 3 folds for each of 3 candidates, totalling 9 fits\n",
      "----------\n",
      "iter: 8\n",
      "n_candidates: 2\n",
      "n_resources: 101888\n",
      "Fitting 3 folds for each of 2 candidates, totalling 6 fits\n",
      "Best parameters found:  {'nb__alpha': 0.1, 'tfidf__max_df': 0.85, 'tfidf__min_df': 1, 'tfidf__ngram_range': (1, 2), 'tfidf__smooth_idf': True, 'tfidf__sublinear_tf': True, 'tfidf__use_idf': False}\n",
      "Best score:  0.8823194550772432\n"
     ]
    }
   ],
   "source": [
    "from sklearn.pipeline import Pipeline\n",
    "from sklearn.feature_extraction.text import TfidfVectorizer\n",
    "from sklearn.naive_bayes import MultinomialNB\n",
    "from sklearn.experimental import enable_halving_search_cv\n",
    "from sklearn.model_selection import HalvingGridSearchCV\n",
    "\n",
    "# Create Pipeline\n",
    "pipeline_1 = Pipeline([\n",
    "    ('tfidf', TfidfVectorizer()),\n",
    "    ('nb', MultinomialNB()),\n",
    "])\n",
    "\n",
    "# Set parameters to search\n",
    "parameters_1 = {\n",
    "    'tfidf__ngram_range': [(1, 1), (1, 2)],               # unigrams ou unigrams + bigrams\n",
    "    'tfidf__min_df': [1, 2, 3],                           # ignorer les termes trop rares\n",
    "    'tfidf__max_df': [0.85, 0.95],                        # ignorer les termes trop fréquents\n",
    "    'tfidf__use_idf': [True, False],                      # tester avec ou sans le facteur IDF\n",
    "    'tfidf__smooth_idf': [True, False],                   # tester le lissage IDF\n",
    "    'tfidf__sublinear_tf': [True, False],                 # logarithmiser le comptage\n",
    "    'nb__alpha': [0.01, 0.1, 0.5, 1.0],\n",
    "}\n",
    "\n",
    "def create_pipeline(pipeline,parameters,dfx_train,dfy_train):\n",
    "    model = HalvingGridSearchCV(\n",
    "    pipeline,\n",
    "    parameters,\n",
    "    cv=3,\n",
    "    factor=2,\n",
    "    scoring='accuracy',\n",
    "    error_score='raise',\n",
    "    n_jobs=-1,\n",
    "    verbose=1,\n",
    ")\n",
    "    try:\n",
    "        model.fit(dfx_train, dfy_train)\n",
    "        print(\"Best parameters found: \", model.best_params_)\n",
    "        print(\"Best score: \", model.best_score_)\n",
    "    except Exception as e:\n",
    "        print(\"An error occurred: \", e)\n",
    "    \n",
    "    return model\n",
    "\n",
    "\n",
    "model_1 = create_pipeline(pipeline_1,parameters_1,x_train,y_train)"
   ]
  },
  {
   "cell_type": "markdown",
   "id": "e10d3ba3",
   "metadata": {},
   "source": [
    "### Modèle 2 (TF-IDF & SVM)"
   ]
  },
  {
   "cell_type": "code",
   "execution_count": 19,
   "id": "070b4832",
   "metadata": {},
   "outputs": [
    {
     "name": "stdout",
     "output_type": "stream",
     "text": [
      "n_iterations: 9\n",
      "n_required_iterations: 9\n",
      "n_possible_iterations: 9\n",
      "min_resources_: 398\n",
      "max_resources_: 102080\n",
      "aggressive_elimination: False\n",
      "factor: 2\n",
      "----------\n",
      "iter: 0\n",
      "n_candidates: 480\n",
      "n_resources: 398\n",
      "Fitting 3 folds for each of 480 candidates, totalling 1440 fits\n",
      "----------\n",
      "iter: 1\n",
      "n_candidates: 240\n",
      "n_resources: 796\n",
      "Fitting 3 folds for each of 240 candidates, totalling 720 fits\n",
      "----------\n",
      "iter: 2\n",
      "n_candidates: 120\n",
      "n_resources: 1592\n",
      "Fitting 3 folds for each of 120 candidates, totalling 360 fits\n",
      "----------\n",
      "iter: 3\n",
      "n_candidates: 60\n",
      "n_resources: 3184\n",
      "Fitting 3 folds for each of 60 candidates, totalling 180 fits\n",
      "----------\n",
      "iter: 4\n",
      "n_candidates: 30\n",
      "n_resources: 6368\n",
      "Fitting 3 folds for each of 30 candidates, totalling 90 fits\n",
      "----------\n",
      "iter: 5\n",
      "n_candidates: 15\n",
      "n_resources: 12736\n",
      "Fitting 3 folds for each of 15 candidates, totalling 45 fits\n",
      "----------\n",
      "iter: 6\n",
      "n_candidates: 8\n",
      "n_resources: 25472\n",
      "Fitting 3 folds for each of 8 candidates, totalling 24 fits\n",
      "----------\n",
      "iter: 7\n",
      "n_candidates: 4\n",
      "n_resources: 50944\n",
      "Fitting 3 folds for each of 4 candidates, totalling 12 fits\n",
      "----------\n",
      "iter: 8\n",
      "n_candidates: 2\n",
      "n_resources: 101888\n",
      "Fitting 3 folds for each of 2 candidates, totalling 6 fits\n",
      "Best parameters found:  {'classifier__C': 0.825, 'tfidf__max_df': 0.85, 'tfidf__min_df': 1, 'tfidf__ngram_range': (1, 2), 'tfidf__smooth_idf': False, 'tfidf__sublinear_tf': True, 'tfidf__use_idf': True}\n",
      "Best score:  0.8864220795791374\n"
     ]
    }
   ],
   "source": [
    "from sklearn.pipeline import Pipeline\n",
    "from sklearn.svm import LinearSVC\n",
    "from sklearn.feature_extraction.text import TfidfVectorizer\n",
    "\n",
    "pipeline_2 = Pipeline([\n",
    "    ('tfidf', TfidfVectorizer()),  # Convertit les textes en vecteurs\n",
    "    ('classifier', LinearSVC())\n",
    "])\n",
    "\n",
    "parameters_2 = {\n",
    "    'tfidf__ngram_range': [(1, 1), (1, 2)],               # unigrams ou unigrams + bigrams\n",
    "    'tfidf__min_df': [1, 2, 3],                           # ignorer les termes trop rares\n",
    "    'tfidf__max_df': [0.85, 0.95],                        # ignorer les termes trop fréquents\n",
    "    'tfidf__use_idf': [True, False],                      # tester avec ou sans le facteur IDF\n",
    "    'tfidf__smooth_idf': [True, False],                   # tester le lissage IDF\n",
    "    'tfidf__sublinear_tf': [True, False],  \n",
    "    'classifier__C': np.linspace(0.1, 3, 5),\n",
    "}\n",
    "\n",
    "model_2 = create_pipeline(pipeline_2,parameters_2,x_train,y_train)"
   ]
  },
  {
   "cell_type": "markdown",
   "id": "e86eabb9",
   "metadata": {},
   "source": [
    "### Modèle 3 (Word embedding & SVM)"
   ]
  },
  {
   "cell_type": "markdown",
   "id": "87fe7d06",
   "metadata": {},
   "source": [
    "#### Initialisation du Word embedding et vectorisation des données"
   ]
  },
  {
   "cell_type": "code",
   "execution_count": 20,
   "id": "85ea184d",
   "metadata": {},
   "outputs": [],
   "source": [
    "from gensim.models import Word2Vec\n",
    "\n",
    "vector_size = 300\n",
    "window = 5\n",
    "workers = 4\n",
    "\n",
    "def create_W2V (df):\n",
    "    W2V_model = Word2Vec(sentences=[doc.split() for doc in df], vector_size=vector_size, window=window, min_count=1, workers=workers)\n",
    "    return W2V_model\n",
    "\n",
    "def document_vector(df,model):\n",
    "    docs=[doc.split() for doc in df]\n",
    "    doc_embeddings = []\n",
    "    for doc in docs:\n",
    "        vectors = [model.wv[word] for word in doc if word in model.wv]\n",
    "        if vectors:\n",
    "            doc_embeddings.append(np.mean(vectors, axis=0))\n",
    "        else:\n",
    "            doc_embeddings.append(np.zeros(model.vector_size))\n",
    "    \n",
    "    return np.array(doc_embeddings)\n",
    "\n",
    "model_W2V = create_W2V(x_train)\n",
    "x_train_emb = document_vector(x_train,model_W2V )\n",
    "x_test_emb = document_vector(x_test,model_W2V )\n",
    "\n"
   ]
  },
  {
   "cell_type": "code",
   "execution_count": 21,
   "id": "ca7a02e2",
   "metadata": {},
   "outputs": [
    {
     "data": {
      "text/plain": [
       "((102080, 300), (25520, 300))"
      ]
     },
     "execution_count": 21,
     "metadata": {},
     "output_type": "execute_result"
    }
   ],
   "source": [
    "x_train_emb.shape, x_test_emb.shape"
   ]
  },
  {
   "cell_type": "markdown",
   "id": "8db8fe6b",
   "metadata": {},
   "source": [
    "#### Création du modèle"
   ]
  },
  {
   "cell_type": "code",
   "execution_count": 22,
   "id": "a2db7ec3",
   "metadata": {},
   "outputs": [
    {
     "name": "stdout",
     "output_type": "stream",
     "text": [
      "n_iterations: 7\n",
      "n_required_iterations: 7\n",
      "n_possible_iterations: 7\n",
      "min_resources_: 1595\n",
      "max_resources_: 102080\n",
      "aggressive_elimination: False\n",
      "factor: 2\n",
      "----------\n",
      "iter: 0\n",
      "n_candidates: 100\n",
      "n_resources: 1595\n",
      "Fitting 3 folds for each of 100 candidates, totalling 300 fits\n",
      "----------\n",
      "iter: 1\n",
      "n_candidates: 50\n",
      "n_resources: 3190\n",
      "Fitting 3 folds for each of 50 candidates, totalling 150 fits\n",
      "----------\n",
      "iter: 2\n",
      "n_candidates: 25\n",
      "n_resources: 6380\n",
      "Fitting 3 folds for each of 25 candidates, totalling 75 fits\n",
      "----------\n",
      "iter: 3\n",
      "n_candidates: 13\n",
      "n_resources: 12760\n",
      "Fitting 3 folds for each of 13 candidates, totalling 39 fits\n",
      "----------\n",
      "iter: 4\n",
      "n_candidates: 7\n",
      "n_resources: 25520\n",
      "Fitting 3 folds for each of 7 candidates, totalling 21 fits\n",
      "----------\n",
      "iter: 5\n",
      "n_candidates: 4\n",
      "n_resources: 51040\n",
      "Fitting 3 folds for each of 4 candidates, totalling 12 fits\n",
      "----------\n",
      "iter: 6\n",
      "n_candidates: 2\n",
      "n_resources: 102080\n",
      "Fitting 3 folds for each of 2 candidates, totalling 6 fits\n",
      "Best parameters found:  {'C': 0.32727272727272727}\n",
      "Best score:  0.8481485126700513\n"
     ]
    }
   ],
   "source": [
    "from sklearn.svm import LinearSVC\n",
    "from sklearn.experimental import enable_halving_search_cv\n",
    "from sklearn.model_selection import HalvingGridSearchCV\n",
    "\n",
    "parameters = {\n",
    "    'C': np.linspace(0.1, 1, 100)\n",
    "}\n",
    "\n",
    "def create_modelSVM(dfx_train, dfy_train):\n",
    "    model = LinearSVC()\n",
    "    grid_search = HalvingGridSearchCV(\n",
    "    model,\n",
    "    parameters,\n",
    "    cv=3,\n",
    "    factor=2,\n",
    "    scoring='accuracy',\n",
    "    error_score='raise',\n",
    "    n_jobs=-1,\n",
    "    verbose=1,\n",
    "    )\n",
    "    try:\n",
    "        grid_search.fit(dfx_train, dfy_train)\n",
    "        print(\"Best parameters found: \", grid_search.best_params_)\n",
    "        print(\"Best score: \", grid_search.best_score_)\n",
    "    except Exception as e:\n",
    "        print(\"An error occurred: \", e)\n",
    "    \n",
    "    return grid_search\n",
    "\n",
    "model_3 = create_modelSVM(x_train_emb,y_train)"
   ]
  },
  {
   "cell_type": "markdown",
   "id": "17fc99aa",
   "metadata": {},
   "source": [
    "Justifier pourquoi j'ai pas inclut l'embedding dans le pipeline"
   ]
  },
  {
   "cell_type": "markdown",
   "id": "f81c3e7e",
   "metadata": {},
   "source": [
    "## Comparaison des modèles"
   ]
  },
  {
   "cell_type": "code",
   "execution_count": 25,
   "id": "63b8dfb6",
   "metadata": {},
   "outputs": [
    {
     "name": "stdout",
     "output_type": "stream",
     "text": [
      "\n",
      "===== Évaluation de TF-IDF & MNB =====\n",
      "Best parameters: {'nb__alpha': 0.1, 'tfidf__max_df': 0.85, 'tfidf__min_df': 1, 'tfidf__ngram_range': (1, 2), 'tfidf__smooth_idf': True, 'tfidf__sublinear_tf': True, 'tfidf__use_idf': False}\n",
      "Best cross-validation score: 0.8823\n",
      "Test accuracy: 0.8863\n",
      "Classification Report:\n",
      "              precision    recall  f1-score   support\n",
      "\n",
      "           1       0.89      0.88      0.88      6283\n",
      "           2       0.94      0.96      0.95      6466\n",
      "           3       0.85      0.86      0.85      6370\n",
      "           4       0.87      0.85      0.86      6401\n",
      "\n",
      "    accuracy                           0.89     25520\n",
      "   macro avg       0.89      0.89      0.89     25520\n",
      "weighted avg       0.89      0.89      0.89     25520\n",
      "\n"
     ]
    },
    {
     "data": {
      "image/png": "[encoded data removed]",
      "text/plain": [
       "<Figure size 640x480 with 2 Axes>"
      ]
     },
     "metadata": {},
     "output_type": "display_data"
    },
    {
     "name": "stdout",
     "output_type": "stream",
     "text": [
      "\n",
      "===== Évaluation de TF-IDF & SVM =====\n",
      "Best parameters: {'classifier__C': 0.825, 'tfidf__max_df': 0.85, 'tfidf__min_df': 1, 'tfidf__ngram_range': (1, 2), 'tfidf__smooth_idf': False, 'tfidf__sublinear_tf': True, 'tfidf__use_idf': True}\n",
      "Best cross-validation score: 0.8864\n",
      "Test accuracy: 0.8897\n",
      "Classification Report:\n",
      "              precision    recall  f1-score   support\n",
      "\n",
      "           1       0.91      0.87      0.89      6283\n",
      "           2       0.93      0.97      0.95      6466\n",
      "           3       0.86      0.86      0.86      6370\n",
      "           4       0.86      0.86      0.86      6401\n",
      "\n",
      "    accuracy                           0.89     25520\n",
      "   macro avg       0.89      0.89      0.89     25520\n",
      "weighted avg       0.89      0.89      0.89     25520\n",
      "\n"
     ]
    },
    {
     "data": {
      "image/png": "[encoded data removed]",
      "text/plain": [
       "<Figure size 640x480 with 2 Axes>"
      ]
     },
     "metadata": {},
     "output_type": "display_data"
    },
    {
     "name": "stdout",
     "output_type": "stream",
     "text": [
      "\n",
      "===== Évaluation de Word embedding & SVM =====\n",
      "Best parameters: {'C': 0.32727272727272727}\n",
      "Best cross-validation score: 0.8481\n",
      "Test accuracy: 0.8471\n",
      "Classification Report:\n",
      "              precision    recall  f1-score   support\n",
      "\n",
      "           1       0.86      0.84      0.85      6283\n",
      "           2       0.90      0.94      0.92      6466\n",
      "           3       0.81      0.81      0.81      6370\n",
      "           4       0.81      0.80      0.81      6401\n",
      "\n",
      "    accuracy                           0.85     25520\n",
      "   macro avg       0.85      0.85      0.85     25520\n",
      "weighted avg       0.85      0.85      0.85     25520\n",
      "\n"
     ]
    },
    {
     "data": {
      "image/png": "[encoded data removed]",
      "text/plain": [
       "<Figure size 640x480 with 2 Axes>"
      ]
     },
     "metadata": {},
     "output_type": "display_data"
    }
   ],
   "source": [
    "from sklearn.metrics import confusion_matrix, ConfusionMatrixDisplay, classification_report\n",
    "import matplotlib.pyplot as plt\n",
    "\n",
    "# Liste des modèles à évaluer\n",
    "model_list = [\n",
    "    (\"TF-IDF & MNB\", model_1, x_test, y_test),\n",
    "    (\"TF-IDF & SVM\", model_2, x_test, y_test),\n",
    "    (\"Word embedding & SVM\", model_3, x_test_emb, y_test),\n",
    "]\n",
    "\n",
    "def evaluate(models):\n",
    "    for name, model, x_test, y_test in models:\n",
    "        print(f\"\\n===== Évaluation de {name} =====\")\n",
    "        \n",
    "        # Affichage des meilleurs paramètres et du score si disponibles\n",
    "        if hasattr(model, \"best_params_\"):\n",
    "            print(\"Best parameters:\", model.best_params_)\n",
    "        if hasattr(model, \"best_score_\"):\n",
    "            print(\"Best cross-validation score:\", f\"{model.best_score_:.4f}\")\n",
    "\n",
    "        # Évaluation sur le jeu de test\n",
    "        try:\n",
    "            test_score = model.score(x_test, y_test)\n",
    "            print(f\"Test accuracy: {test_score:.4f}\")\n",
    "            \n",
    "            y_pred = model.predict(x_test)\n",
    "\n",
    "            print(\"Classification Report:\")\n",
    "            print(classification_report(y_test, y_pred))\n",
    "\n",
    "            # Affichage de la matrice de confusion\n",
    "            cm = confusion_matrix(y_test, y_pred)\n",
    "            labels = model.classes_ if hasattr(model, \"classes_\") else sorted(set(y_test))\n",
    "            disp = ConfusionMatrixDisplay(confusion_matrix=cm, display_labels=labels)\n",
    "            disp.plot(cmap=plt.cm.Blues)\n",
    "            plt.title(f\"Matrice de confusion - {name}\")\n",
    "            plt.tight_layout()\n",
    "            plt.show()\n",
    "\n",
    "        except Exception as e:\n",
    "            print(f\"❌ Une erreur est survenue pendant l’évaluation de {name} : {e}\")\n",
    "\n",
    "    return None\n",
    "\n",
    "# Appel\n",
    "evaluate(model_list)\n"
   ]
  },
  {
   "cell_type": "markdown",
   "id": "890303fe",
   "metadata": {},
   "source": [
    "## Sauvegarder les modèles"
   ]
  },
  {
   "cell_type": "code",
   "execution_count": 24,
   "id": "5c37a96d",
   "metadata": {},
   "outputs": [
    {
     "data": {
      "text/plain": [
       "['Model\\\\Classification\\\\Général\\\\model3.pkl']"
      ]
     },
     "execution_count": 24,
     "metadata": {},
     "output_type": "execute_result"
    }
   ],
   "source": [
    "import joblib\n",
    "joblib.dump(model_1, r'Model\\Classification\\Général\\model1.pkl')\n",
    "joblib.dump(model_2, r'Model\\Classification\\Général\\model2.pkl')\n",
    "joblib.dump(model_3, r'Model\\Classification\\Général\\model3.pkl')"
   ]
  }
 ],
 "metadata": {
  "kernelspec": {
   "display_name": "Python 3",
   "language": "python",
   "name": "python3"
  },
  "language_info": {
   "codemirror_mode": {
    "name": "ipython",
    "version": 3
   },
   "file_extension": ".py",
   "mimetype": "text/x-python",
   "name": "python",
   "nbconvert_exporter": "python",
   "pygments_lexer": "ipython3",
   "version": "3.12.9"
  }
 },
 "nbformat": 4,
 "nbformat_minor": 5
}
